{
 "cells": [
  {
   "cell_type": "code",
   "execution_count": 83,
   "id": "f544d097-4914-4039-8733-707dc851f942",
   "metadata": {},
   "outputs": [],
   "source": [
    "import pandas as pd\n",
    "import numpy as np\n",
    "import matplotlib.pyplot as plt\n",
    "from sklearn.linear_model import LinearRegression, Ridge, Lasso, ElasticNet\n",
    "from sklearn.ensemble import RandomForestRegressor, GradientBoostingRegressor, ExtraTreesRegressor\n",
    "from sklearn.neighbors import KNeighborsRegressor\n",
    "from sklearn.inspection import permutation_importance\n",
    "from sklearn.preprocessing import StandardScaler\n",
    "from sklearn.svm import SVR\n",
    "from sklearn.tree import DecisionTreeRegressor\n",
    "from sklearn.metrics import mean_squared_error, mean_absolute_error, r2_score\n",
    "from tensorflow.keras.models import Sequential\n",
    "from tensorflow.keras.layers import Conv1D, MaxPooling1D, LSTM, Bidirectional, Dropout, Dense\n",
    "from tensorflow.keras.optimizers import Adam\n",
    "import xgboost as xgb\n",
    "import time"
   ]
  },
  {
   "cell_type": "code",
   "execution_count": 150,
   "id": "e6e8bafe-f9ae-41bc-bae0-3c1ca9c10114",
   "metadata": {},
   "outputs": [],
   "source": [
    "column_names = ['engine_id', 'cycle','op_setting_1', 'op_setting_2', 'op_setting_3'] + [f'sensor_{i}' for i in range(1, 24)]\n",
    "\n",
    "train_df = pd.read_csv('train_FD001.txt', sep=' ', header=None)\n",
    "test_df = pd.read_csv('test_FD001.txt', sep=' ', header=None)\n",
    "rul_df = pd.read_csv('RUL_FD001.txt', header=None, names=['RUL'])\n",
    "\n",
    "train_df_2 = pd.read_csv('train_FD002.txt', sep=' ', header=None)\n",
    "test_df_2 = pd.read_csv('test_FD002.txt', sep=' ', header=None)\n",
    "rul_df_2 = pd.read_csv('RUL_FD002.txt', header=None, names=['RUL'])\n",
    "\n",
    "train_df_3 = pd.read_csv('train_FD003.txt', sep=' ', header=None)\n",
    "test_df_3 = pd.read_csv('test_FD003.txt', sep=' ', header=None)\n",
    "rul_df_3 = pd.read_csv('RUL_FD003.txt', header=None, names=['RUL'])\n",
    "\n",
    "train_df_4 = pd.read_csv('train_FD004.txt', sep=' ', header=None)\n",
    "test_df_4 = pd.read_csv('test_FD004.txt', sep=' ', header=None)\n",
    "rul_df_4 = pd.read_csv('RUL_FD004.txt', header=None, names=['RUL'])\n",
    "\n",
    "train_df.columns = column_names\n",
    "test_df.columns = column_names\n",
    "\n",
    "train_df_2.columns = column_names\n",
    "test_df_2.columns = column_names\n",
    "\n",
    "train_df_3.columns = column_names\n",
    "test_df_3.columns = column_names\n",
    "\n",
    "train_df_4.columns = column_names\n",
    "test_df_4.columns = column_names"
   ]
  },
  {
   "cell_type": "code",
   "execution_count": 151,
   "id": "5c11ae8c-7c64-4622-b99f-04ac1d0520e7",
   "metadata": {},
   "outputs": [],
   "source": [
    "max_cycle = train_df.groupby('engine_id')['cycle'].max().reset_index()\n",
    "max_cycle.columns = ['engine_id', 'max_cycle']\n",
    "train_df = train_df.merge(max_cycle, on='engine_id')\n",
    "train_df['RUL'] = train_df['max_cycle'] - train_df['cycle']\n",
    "train_df.drop('max_cycle', axis=1, inplace=True)\n",
    "\n",
    "max_cycle_2 = train_df_2.groupby('engine_id')['cycle'].max().reset_index()\n",
    "max_cycle_2.columns = ['engine_id', 'max_cycle']\n",
    "train_df_2 = train_df_2.merge(max_cycle_2, on='engine_id')\n",
    "train_df_2['RUL'] = train_df_2['max_cycle'] - train_df_2['cycle']\n",
    "train_df_2.drop('max_cycle', axis=1, inplace=True)\n",
    "\n",
    "max_cycle_3 = train_df_3.groupby('engine_id')['cycle'].max().reset_index()\n",
    "max_cycle_3.columns = ['engine_id', 'max_cycle']\n",
    "train_df_3 = train_df_3.merge(max_cycle_3, on='engine_id')\n",
    "train_df_3['RUL'] = train_df_3['max_cycle'] - train_df_3['cycle']\n",
    "train_df_3.drop('max_cycle', axis=1, inplace=True)\n",
    "\n",
    "max_cycle_4 = train_df_4.groupby('engine_id')['cycle'].max().reset_index()\n",
    "max_cycle_4.columns = ['engine_id', 'max_cycle']\n",
    "train_df_4 = train_df_4.merge(max_cycle_4, on='engine_id')\n",
    "train_df_4['RUL'] = train_df_4['max_cycle'] - train_df_4['cycle']\n",
    "train_df_4.drop('max_cycle', axis=1, inplace=True)"
   ]
  },
  {
   "cell_type": "code",
   "execution_count": 152,
   "id": "a1367351-24ef-45b1-b7cb-b09962cac47a",
   "metadata": {},
   "outputs": [],
   "source": [
    "test_last_df = test_df.groupby('engine_id').last().reset_index()\n",
    "\n",
    "test_last_df['RUL'] = rul_df['RUL']\n",
    "\n",
    "test_last_df_2 = test_df_2.groupby('engine_id').last().reset_index()\n",
    "\n",
    "test_last_df_2['RUL'] = rul_df_2['RUL']\n",
    "\n",
    "test_last_df_3 = test_df_3.groupby('engine_id').last().reset_index()\n",
    "\n",
    "test_last_df_3['RUL'] = rul_df_3['RUL']\n",
    "\n",
    "test_last_df_4 = test_df_4.groupby('engine_id').last().reset_index()\n",
    "\n",
    "test_last_df_4['RUL'] = rul_df_4['RUL']"
   ]
  },
  {
   "cell_type": "code",
   "execution_count": 153,
   "id": "21a5c326-3722-46f1-805b-a331e6b7ae55",
   "metadata": {},
   "outputs": [],
   "source": [
    "features = train_df.columns.difference(['engine_id', 'cycle', 'RUL'])\n",
    "features_2 = train_df_2.columns.difference(['engine_id', 'cycle', 'RUL'])\n",
    "features_3 = train_df_3.columns.difference(['engine_id', 'cycle', 'RUL'])\n",
    "features_4 = train_df_4.columns.difference(['engine_id', 'cycle', 'RUL'])\n",
    "\n",
    "X_train = train_df.drop(columns=[\"engine_id\",\"cycle\",\"RUL\",\"sensor_22\",\"sensor_23\"])\n",
    "y_train = train_df[\"RUL\"]\n",
    "\n",
    "X_test = test_last_df.drop(columns=[\"engine_id\",\"cycle\",\"RUL\",\"sensor_22\",\"sensor_23\"])\n",
    "y_test = test_last_df[\"RUL\"]\n",
    "\n",
    "X_train_2 = train_df_2.drop(columns=[\"engine_id\",\"cycle\",\"RUL\",\"sensor_22\",\"sensor_23\"])\n",
    "y_train_2 = train_df_2[\"RUL\"]\n",
    "\n",
    "X_test_2 = test_last_df_2.drop(columns=[\"engine_id\",\"cycle\",\"RUL\",\"sensor_22\",\"sensor_23\"])\n",
    "y_test_2 = test_last_df_2[\"RUL\"]\n",
    "\n",
    "X_train_3 = train_df_3.drop(columns=[\"engine_id\",\"cycle\",\"RUL\",\"sensor_22\",\"sensor_23\"])\n",
    "y_train_3 = train_df_3[\"RUL\"]\n",
    "\n",
    "X_test_3 = test_last_df_3.drop(columns=[\"engine_id\",\"cycle\",\"RUL\",\"sensor_22\",\"sensor_23\"])\n",
    "y_test_3 = test_last_df_3[\"RUL\"]\n",
    "\n",
    "X_train_4 = train_df_4.drop(columns=[\"engine_id\",\"cycle\",\"RUL\",\"sensor_22\",\"sensor_23\"])\n",
    "y_train_4 = train_df_4[\"RUL\"]\n",
    "\n",
    "X_test_4 = test_last_df_4.drop(columns=[\"engine_id\",\"cycle\",\"RUL\",\"sensor_22\",\"sensor_23\"])\n",
    "y_test_4 = test_last_df_4[\"RUL\"]"
   ]
  },
  {
   "cell_type": "code",
   "execution_count": 154,
   "id": "a711db07-99a6-4ab0-8d79-1bf2f479a9b9",
   "metadata": {},
   "outputs": [],
   "source": [
    "constant_or_nan_cols = [col for col in X_train.columns if X_train[col].nunique(dropna=True) <= 1]\n",
    "X_train.drop(columns=constant_or_nan_cols, inplace=True)\n",
    "X_test.drop(columns=constant_or_nan_cols, inplace=True)\n",
    "y_train.drop(columns=constant_or_nan_cols, inplace=True)\n",
    "y_test.drop(columns=constant_or_nan_cols, inplace=True)\n",
    "\n",
    "X_train_2.drop(columns=constant_or_nan_cols, inplace=True)\n",
    "X_test_2.drop(columns=constant_or_nan_cols, inplace=True)\n",
    "y_train_2.drop(columns=constant_or_nan_cols, inplace=True)\n",
    "y_test_2.drop(columns=constant_or_nan_cols, inplace=True)\n",
    "\n",
    "X_train_3.drop(columns=constant_or_nan_cols, inplace=True)\n",
    "X_test_3.drop(columns=constant_or_nan_cols, inplace=True)\n",
    "y_train_3.drop(columns=constant_or_nan_cols, inplace=True)\n",
    "y_test_3.drop(columns=constant_or_nan_cols, inplace=True)\n",
    "\n",
    "X_train_4.drop(columns=constant_or_nan_cols, inplace=True)\n",
    "X_test_4.drop(columns=constant_or_nan_cols, inplace=True)\n",
    "y_train_4.drop(columns=constant_or_nan_cols, inplace=True)\n",
    "y_test_4.drop(columns=constant_or_nan_cols, inplace=True)"
   ]
  },
  {
   "cell_type": "code",
   "execution_count": 155,
   "id": "274511d1-2d97-46e3-bcc3-64438e4ddde0",
   "metadata": {},
   "outputs": [],
   "source": [
    "scaler = StandardScaler()\n",
    "X_train_scaled = scaler.fit_transform(X_train)\n",
    "X_test_scaled = scaler.transform(X_test)\n",
    "\n",
    "scaler_2 = StandardScaler()\n",
    "X_train_scaled_2 = scaler_2.fit_transform(X_train_2)\n",
    "X_test_scaled_2 = scaler_2.transform(X_test_2)\n",
    "\n",
    "scaler_3 = StandardScaler()\n",
    "X_train_scaled_3 = scaler_3.fit_transform(X_train_3)\n",
    "X_test_scaled_3 = scaler_3.transform(X_test_3)\n",
    "\n",
    "scaler_4 = StandardScaler()\n",
    "X_train_scaled_4 = scaler_4.fit_transform(X_train_4)\n",
    "X_test_scaled_4 = scaler_4.transform(X_test_4)"
   ]
  },
  {
   "cell_type": "code",
   "execution_count": 156,
   "id": "855a0c1f-311f-4219-8c56-fb0bd35be51f",
   "metadata": {},
   "outputs": [],
   "source": [
    "def evaluate_model(name, y_true, y_pred):\n",
    "    rmse = mean_squared_error(y_true, y_pred)\n",
    "    mae = mean_absolute_error(y_true, y_pred)\n",
    "    r2 = r2_score(y_true, y_pred)\n",
    "    mape = np.mean(np.abs((y_true - y_pred) / y_true)) * 100\n",
    "    accuracy = 100 - mape\n",
    "    # NASA Scoring Function\n",
    "    h = y_pred - y_true\n",
    "    score = np.sum(np.where(h < 0, np.exp(-h / 13) - 1, np.exp(h / 10) - 1))\n",
    "    print(f\"{name}: RMSE={rmse:.2f}, MAE={mae:.2f}, R²={r2:.2f}, Accuracy = {accuracy:.2f}%, Score={score:.2f} \")"
   ]
  },
  {
   "cell_type": "code",
   "execution_count": 94,
   "id": "e686d02a-78f5-4a0a-8a25-bb76d51a6382",
   "metadata": {},
   "outputs": [
    {
     "name": "stdout",
     "output_type": "stream",
     "text": [
      "Linear regression Training Time: 0.065 seconds\n"
     ]
    }
   ],
   "source": [
    "#Linear Regression\n",
    "start_lr = time.time()\n",
    "lr = LinearRegression()\n",
    "lr_2 = LinearRegression()\n",
    "lr_3 = LinearRegression()\n",
    "lr_4 = LinearRegression()\n",
    "lr.fit(X_train_scaled, y_train)\n",
    "lr_2.fit(X_train_scaled_2, y_train_2)\n",
    "lr_3.fit(X_train_scaled_3, y_train_3)\n",
    "lr_4.fit(X_train_scaled_4, y_train_4)\n",
    "y_pred_lr = lr.predict(X_test_scaled)\n",
    "y_pred_lr_2 = lr_2.predict(X_test_scaled_2)\n",
    "y_pred_lr_3 = lr_3.predict(X_test_scaled_3)\n",
    "y_pred_lr_4 = lr_4.predict(X_test_scaled_4)\n",
    "end_lr = time.time()\n",
    "print(f\"Linear regression Training Time: {end_lr - start_lr:.3f} seconds\")"
   ]
  },
  {
   "cell_type": "code",
   "execution_count": 95,
   "id": "030d1b81-0474-4aaf-bd71-20fbfc98166c",
   "metadata": {},
   "outputs": [
    {
     "name": "stdout",
     "output_type": "stream",
     "text": [
      "Linear Regression_FD001: RMSE=1026.63, MAE=25.59, R²=0.41, Accuracy = 44.64%, Score=13259.84 \n",
      "Linear Regression_FD002: RMSE=1156.66, MAE=27.54, R²=0.60, Accuracy = 26.84%, Score=29090.43 \n",
      "Linear Regression_FD003: RMSE=3287.80, MAE=47.31, R²=-0.92, Accuracy = -2.43%, Score=404325093.99 \n",
      "Linear Regression_FD004: RMSE=2378.76, MAE=39.43, R²=0.20, Accuracy = 13.21%, Score=864464.43 \n"
     ]
    }
   ],
   "source": [
    "evaluate_model(\"Linear Regression_FD001\", y_test, y_pred_lr)\n",
    "evaluate_model(\"Linear Regression_FD002\", y_test_2, y_pred_lr_2)\n",
    "evaluate_model(\"Linear Regression_FD003\", y_test_3, y_pred_lr_3)\n",
    "evaluate_model(\"Linear Regression_FD004\", y_test_4, y_pred_lr_4)"
   ]
  },
  {
   "cell_type": "code",
   "execution_count": 96,
   "id": "f58af23d-dd31-4d81-9992-34288544e1a6",
   "metadata": {},
   "outputs": [
    {
     "name": "stdout",
     "output_type": "stream",
     "text": [
      "Ridge regression Training Time: 0.046 seconds\n"
     ]
    }
   ],
   "source": [
    "# Ridge regression\n",
    "start_rdg = time.time()\n",
    "ridge = Ridge(alpha=1.0)\n",
    "ridge.fit(X_train_scaled, y_train)\n",
    "y_pred_ridge = ridge.predict(X_test_scaled)\n",
    "\n",
    "ridge_2 = Ridge(alpha=1.0)\n",
    "ridge_2.fit(X_train_scaled_2, y_train_2)\n",
    "y_pred_ridge_2 = ridge_2.predict(X_test_scaled_2)\n",
    "\n",
    "ridge_3 = Ridge(alpha=1.0)\n",
    "ridge_3.fit(X_train_scaled_3, y_train_3)\n",
    "y_pred_ridge_3 = ridge_3.predict(X_test_scaled_3)\n",
    "\n",
    "ridge_4 = Ridge(alpha=1.0)\n",
    "ridge_4.fit(X_train_scaled_4, y_train_4)\n",
    "y_pred_ridge_4 = ridge.predict(X_test_scaled_4)\n",
    "\n",
    "end_rdg = time.time()\n",
    "print(f\"Ridge regression Training Time: {end_rdg - start_rdg:.3f} seconds\")"
   ]
  },
  {
   "cell_type": "code",
   "execution_count": 97,
   "id": "1c819412-5976-4a32-8bf5-cbc6ec710d1b",
   "metadata": {},
   "outputs": [
    {
     "name": "stdout",
     "output_type": "stream",
     "text": [
      "Ridge Regression_FD001: RMSE=1026.61, MAE=25.59, R²=0.41, Accuracy = 44.64%, Score=13258.74 \n",
      "Ridge Regression_FD002: RMSE=1132.84, MAE=27.25, R²=0.61, Accuracy = 29.32%, Score=26524.17 \n",
      "Ridge Regression_FD003: RMSE=3287.77, MAE=47.31, R²=-0.92, Accuracy = -2.43%, Score=404137702.31 \n",
      "Ridge Regression_FD004: RMSE=3683.56, MAE=49.87, R²=-0.24, Accuracy = -100.41%, Score=6505287.14 \n"
     ]
    }
   ],
   "source": [
    "evaluate_model(\"Ridge Regression_FD001\", y_test, y_pred_ridge)\n",
    "evaluate_model(\"Ridge Regression_FD002\", y_test_2, y_pred_ridge_2)\n",
    "evaluate_model(\"Ridge Regression_FD003\", y_test_3, y_pred_ridge_3)\n",
    "evaluate_model(\"Ridge Regression_FD004\", y_test_4, y_pred_ridge_4)"
   ]
  },
  {
   "cell_type": "code",
   "execution_count": 98,
   "id": "eddce5fa-e4f1-4bbf-a678-afda9018d110",
   "metadata": {},
   "outputs": [
    {
     "name": "stderr",
     "output_type": "stream",
     "text": [
      "C:\\Users\\D-InfoTech\\AppData\\Roaming\\Python\\Python311\\site-packages\\sklearn\\linear_model\\_coordinate_descent.py:695: ConvergenceWarning: Objective did not converge. You might want to increase the number of iterations, check the scale of the features or consider increasing regularisation. Duality gap: 4.701e+07, tolerance: 2.573e+04\n",
      "  model = cd_fast.enet_coordinate_descent(\n"
     ]
    },
    {
     "name": "stdout",
     "output_type": "stream",
     "text": [
      "Lasso regression Training Time: 25.687 seconds\n"
     ]
    },
    {
     "name": "stderr",
     "output_type": "stream",
     "text": [
      "C:\\Users\\D-InfoTech\\AppData\\Roaming\\Python\\Python311\\site-packages\\sklearn\\linear_model\\_coordinate_descent.py:695: ConvergenceWarning: Objective did not converge. You might want to increase the number of iterations, check the scale of the features or consider increasing regularisation. Duality gap: 1.070e+08, tolerance: 4.937e+04\n",
      "  model = cd_fast.enet_coordinate_descent(\n"
     ]
    }
   ],
   "source": [
    "# Lasso regression\n",
    "start_lass = time.time()\n",
    "lasso = Lasso(alpha=0.01)\n",
    "lasso.fit(X_train_scaled, y_train)\n",
    "y_pred_lasso = lasso.predict(X_test_scaled)\n",
    "\n",
    "lasso_2 = Lasso(alpha=0.01)\n",
    "lasso_2.fit(X_train_scaled_2, y_train_2)\n",
    "y_pred_lasso_2 = lasso_2.predict(X_test_scaled_2)\n",
    "\n",
    "lasso_3 = Lasso(alpha=0.01)\n",
    "lasso_3.fit(X_train_scaled_3, y_train_3)\n",
    "y_pred_lasso_3 = lasso_3.predict(X_test_scaled_3)\n",
    "\n",
    "lasso_4 = Lasso(alpha=0.01)\n",
    "lasso_4.fit(X_train_scaled_4, y_train_4)\n",
    "y_pred_lasso_4 = lasso.predict(X_test_scaled_4)\n",
    "\n",
    "end_lass = time.time()\n",
    "print(f\"Lasso regression Training Time: {end_lass - start_lass:.3f} seconds\")"
   ]
  },
  {
   "cell_type": "code",
   "execution_count": 99,
   "id": "7097d764-8309-4891-9414-dc91ef38ebbd",
   "metadata": {},
   "outputs": [
    {
     "name": "stdout",
     "output_type": "stream",
     "text": [
      "Lasso Regression_FD001: RMSE=1026.55, MAE=25.59, R²=0.41, Accuracy = 44.63%, Score=13261.18 \n",
      "Lasso Regression_FD002: RMSE=1175.54, MAE=27.65, R²=0.59, Accuracy = 27.89%, Score=34076.67 \n",
      "Lasso Regression_FD003: RMSE=3288.65, MAE=47.31, R²=-0.92, Accuracy = -2.44%, Score=407232846.49 \n",
      "Lasso Regression_FD004: RMSE=3681.91, MAE=49.86, R²=-0.24, Accuracy = -100.40%, Score=6454004.97 \n"
     ]
    }
   ],
   "source": [
    "evaluate_model(\"Lasso Regression_FD001\", y_test, y_pred_lasso)\n",
    "evaluate_model(\"Lasso Regression_FD002\", y_test_2, y_pred_lasso_2)\n",
    "evaluate_model(\"Lasso Regression_FD003\", y_test_3, y_pred_lasso_3)\n",
    "evaluate_model(\"Lasso Regression_FD004\", y_test_4, y_pred_lasso_4)"
   ]
  },
  {
   "cell_type": "code",
   "execution_count": 100,
   "id": "d9014a5f-5549-439b-9ddc-577f667ed933",
   "metadata": {},
   "outputs": [
    {
     "name": "stderr",
     "output_type": "stream",
     "text": [
      "C:\\Users\\D-InfoTech\\AppData\\Roaming\\Python\\Python311\\site-packages\\sklearn\\linear_model\\_coordinate_descent.py:695: ConvergenceWarning: Objective did not converge. You might want to increase the number of iterations, check the scale of the features or consider increasing regularisation. Duality gap: 6.987e+07, tolerance: 2.573e+04\n",
      "  model = cd_fast.enet_coordinate_descent(\n"
     ]
    },
    {
     "name": "stdout",
     "output_type": "stream",
     "text": [
      "ElasticNet regression Training Time: 25.573 seconds\n"
     ]
    },
    {
     "name": "stderr",
     "output_type": "stream",
     "text": [
      "C:\\Users\\D-InfoTech\\AppData\\Roaming\\Python\\Python311\\site-packages\\sklearn\\linear_model\\_coordinate_descent.py:695: ConvergenceWarning: Objective did not converge. You might want to increase the number of iterations, check the scale of the features or consider increasing regularisation. Duality gap: 1.388e+08, tolerance: 4.937e+04\n",
      "  model = cd_fast.enet_coordinate_descent(\n"
     ]
    }
   ],
   "source": [
    "# ElasticNet regression\n",
    "start_elst = time.time()\n",
    "elastic = ElasticNet(alpha=0.01, l1_ratio=0.5)\n",
    "elastic.fit(X_train_scaled, y_train)\n",
    "y_pred_elastic = elastic.predict(X_test_scaled)\n",
    "\n",
    "elastic_2 = ElasticNet(alpha=0.01, l1_ratio=0.5)\n",
    "elastic_2.fit(X_train_scaled_2, y_train_2)\n",
    "y_pred_elastic_2 = elastic_2.predict(X_test_scaled_2)\n",
    "\n",
    "elastic_3 = ElasticNet(alpha=0.01, l1_ratio=0.5)\n",
    "elastic_3.fit(X_train_scaled_3, y_train_3)\n",
    "y_pred_elastic_3 = elastic_3.predict(X_test_scaled_3)\n",
    "\n",
    "elastic_4 = ElasticNet(alpha=0.01, l1_ratio=0.5)\n",
    "elastic_4.fit(X_train_scaled_4, y_train_4)\n",
    "y_pred_elastic_4 = elastic_4.predict(X_test_scaled_4)\n",
    "\n",
    "end_elst = time.time()\n",
    "print(f\"ElasticNet regression Training Time: {end_elst - start_elst:.3f} seconds\")"
   ]
  },
  {
   "cell_type": "code",
   "execution_count": 101,
   "id": "fc0db8c4-acb8-47b5-ab54-05b921913fc2",
   "metadata": {},
   "outputs": [
    {
     "name": "stdout",
     "output_type": "stream",
     "text": [
      "ElasticNet Regression_FD001: RMSE=1024.05, MAE=25.57, R²=0.41, Accuracy = 44.70%, Score=13152.31 \n",
      "ElasticNet Regression_FD002: RMSE=1488.76, MAE=32.47, R²=0.49, Accuracy = -11.64%, Score=45281.73 \n",
      "ElasticNet Regression_FD003: RMSE=3285.19, MAE=47.30, R²=-0.92, Accuracy = -2.43%, Score=383241629.96 \n",
      "ElasticNet Regression_FD004: RMSE=2837.10, MAE=44.40, R²=0.05, Accuracy = -47.57%, Score=1833320.95 \n"
     ]
    }
   ],
   "source": [
    "evaluate_model(\"ElasticNet Regression_FD001\", y_test, y_pred_elastic)\n",
    "evaluate_model(\"ElasticNet Regression_FD002\", y_test_2, y_pred_elastic_2)\n",
    "evaluate_model(\"ElasticNet Regression_FD003\", y_test_3, y_pred_elastic_3)\n",
    "evaluate_model(\"ElasticNet Regression_FD004\", y_test_4, y_pred_elastic_4)"
   ]
  },
  {
   "cell_type": "code",
   "execution_count": 103,
   "id": "87b294b6-72e6-47e2-b26e-76f17473258f",
   "metadata": {},
   "outputs": [
    {
     "name": "stdout",
     "output_type": "stream",
     "text": [
      "KNN Training Time: 0.067 seconds\n"
     ]
    }
   ],
   "source": [
    "# K-Nearest Neighbors model\n",
    "start_knn = time.time()\n",
    "knn = KNeighborsRegressor(n_neighbors=5)\n",
    "knn.fit(X_train_scaled, y_train)\n",
    "y_pred_knn = knn.predict(X_test_scaled)\n",
    "\n",
    "knn_2 = KNeighborsRegressor(n_neighbors=5)\n",
    "knn_2.fit(X_train_scaled_2, y_train_2)\n",
    "y_pred_knn_2 = knn_2.predict(X_test_scaled_2)\n",
    "\n",
    "knn_3 = KNeighborsRegressor(n_neighbors=5)\n",
    "knn_3.fit(X_train_scaled_3, y_train_3)\n",
    "y_pred_knn_3 = knn_3.predict(X_test_scaled_3)\n",
    "\n",
    "knn_4 = KNeighborsRegressor(n_neighbors=5)\n",
    "knn_4.fit(X_train_scaled_4, y_train_4)\n",
    "y_pred_knn_4 = knn_4.predict(X_test_scaled_4)\n",
    "\n",
    "end_knn = time.time()\n",
    "print(f\"KNN Training Time: {end_knn - start_knn:.3f} seconds\")"
   ]
  },
  {
   "cell_type": "code",
   "execution_count": 104,
   "id": "2ac47efe-dba1-4f7f-8385-377d5aba652a",
   "metadata": {},
   "outputs": [
    {
     "name": "stdout",
     "output_type": "stream",
     "text": [
      "KNN Regression_FD001: RMSE=1173.39, MAE=25.27, R²=0.32, Accuracy = 59.94%, Score=39494.11 \n",
      "KNN Regression_FD002: RMSE=1428.44, MAE=27.32, R²=0.51, Accuracy = 56.24%, Score=434453.72 \n",
      "KNN Regression_FD003: RMSE=3171.07, MAE=39.80, R²=-0.85, Accuracy = 44.48%, Score=198116325.73 \n",
      "KNN Regression_FD004: RMSE=2263.50, MAE=35.44, R²=0.24, Accuracy = 45.54%, Score=6852355.67 \n"
     ]
    }
   ],
   "source": [
    "evaluate_model(\"KNN Regression_FD001\", y_test, y_pred_knn)\n",
    "evaluate_model(\"KNN Regression_FD002\", y_test_2, y_pred_knn_2)\n",
    "evaluate_model(\"KNN Regression_FD003\", y_test_3, y_pred_knn_3)\n",
    "evaluate_model(\"KNN Regression_FD004\", y_test_4, y_pred_knn_4)"
   ]
  },
  {
   "cell_type": "code",
   "execution_count": 105,
   "id": "1104f5ac-536b-4a9b-a521-e3cd1396f495",
   "metadata": {},
   "outputs": [
    {
     "name": "stdout",
     "output_type": "stream",
     "text": [
      "Random Forest Training Time: 447.348 seconds\n"
     ]
    }
   ],
   "source": [
    "# RandomForest\n",
    "start_rf = time.time()\n",
    "rf = RandomForestRegressor(n_estimators=200, max_depth=20, random_state=82)\n",
    "rf.fit(X_train, y_train)\n",
    "y_pred_rf = rf.predict(X_test)\n",
    "\n",
    "rf_2 = RandomForestRegressor(n_estimators=200, max_depth=20, random_state=82)\n",
    "rf_2.fit(X_train_2, y_train_2)\n",
    "y_pred_rf_2 = rf_2.predict(X_test_2)\n",
    "\n",
    "rf_3 = RandomForestRegressor(n_estimators=200, max_depth=20, random_state=82)\n",
    "rf_3.fit(X_train_3, y_train_3)\n",
    "y_pred_rf_3 = rf_3.predict(X_test_3)\n",
    "\n",
    "rf_4 = RandomForestRegressor(n_estimators=200, max_depth=20, random_state=82)\n",
    "rf_4.fit(X_train_4, y_train_4)\n",
    "y_pred_rf_4 = rf_4.predict(X_test_4)\n",
    "\n",
    "end_rf = time.time()\n",
    "print(f\"Random Forest Training Time: {end_rf - start_rf:.3f} seconds\")"
   ]
  },
  {
   "cell_type": "code",
   "execution_count": 107,
   "id": "628b30b8-9933-4d31-bdce-1707bd30dbf0",
   "metadata": {},
   "outputs": [
    {
     "name": "stdout",
     "output_type": "stream",
     "text": [
      "Random Forest method_FD001: RMSE=1097.04, MAE=24.59, R²=0.36, Accuracy = 60.33%, Score=31996.76 \n",
      "Random Forest method_FD002: RMSE=979.89, MAE=22.90, R²=0.66, Accuracy = 62.59%, Score=41569.28 \n",
      "Random Forest method_FD003: RMSE=1974.88, MAE=32.26, R²=-0.15, Accuracy = 55.73%, Score=385263.09 \n",
      "Random Forest method_FD004: RMSE=1789.11, MAE=31.10, R²=0.40, Accuracy = 53.55%, Score=5648317.62 \n"
     ]
    }
   ],
   "source": [
    "evaluate_model(\"Random Forest method_FD001\", y_test, y_pred_rf)\n",
    "evaluate_model(\"Random Forest method_FD002\", y_test_2, y_pred_rf_2)\n",
    "evaluate_model(\"Random Forest method_FD003\", y_test_3, y_pred_rf_3)\n",
    "evaluate_model(\"Random Forest method_FD004\", y_test_4, y_pred_rf_4)"
   ]
  },
  {
   "cell_type": "code",
   "execution_count": 108,
   "id": "de135cf0-6d88-4fb9-8e67-6dc6fb6d92aa",
   "metadata": {},
   "outputs": [
    {
     "name": "stdout",
     "output_type": "stream",
     "text": [
      "XGBoost Training Time: 447.348 seconds\n"
     ]
    }
   ],
   "source": [
    "# XGBoost\n",
    "start_xgb = time.time()\n",
    "xgb_model = xgb.XGBRegressor(n_estimators=100, learning_rate=0.1, max_depth=6)\n",
    "xgb_model.fit(X_train, y_train)\n",
    "y_pred_xgb = xgb_model.predict(X_test)\n",
    "\n",
    "xgb_model_2 = xgb.XGBRegressor(n_estimators=100, learning_rate=0.1, max_depth=6)\n",
    "xgb_model_2.fit(X_train_2, y_train_2)\n",
    "y_pred_xgb_2= xgb_model_2.predict(X_test_2)\n",
    "\n",
    "xgb_model_3 = xgb.XGBRegressor(n_estimators=100, learning_rate=0.1, max_depth=6)\n",
    "xgb_model_3.fit(X_train_3, y_train_3)\n",
    "y_pred_xgb_3 = xgb_model_3.predict(X_test_3)\n",
    "\n",
    "xgb_model_4 = xgb.XGBRegressor(n_estimators=100, learning_rate=0.1, max_depth=6)\n",
    "xgb_model_4.fit(X_train_4, y_train_4)\n",
    "y_pred_xgb_4 = xgb_model_4.predict(X_test_4)\n",
    "\n",
    "end_xgb = time.time()\n",
    "print(f\"XGBoost Training Time: {end_rf - start_rf:.3f} seconds\")"
   ]
  },
  {
   "cell_type": "code",
   "execution_count": 109,
   "id": "f28fedbe-b5a4-4050-acd0-9742b9cff7ca",
   "metadata": {},
   "outputs": [
    {
     "name": "stdout",
     "output_type": "stream",
     "text": [
      "XGBoost method_FD001: RMSE=1169.22, MAE=24.56, R²=0.32, Accuracy = 61.82%, Score=56126.11 \n",
      "XGBoost method_FD002: RMSE=896.88, MAE=22.05, R²=0.69, Accuracy = 63.27%, Score=20932.83 \n",
      "XGBoost method_FD003: RMSE=2139.61, MAE=32.75, R²=-0.25, Accuracy = 53.91%, Score=2015443.42 \n",
      "XGBoost method_FD004: RMSE=1716.15, MAE=30.76, R²=0.42, Accuracy = 54.16%, Score=612272.30 \n"
     ]
    }
   ],
   "source": [
    "evaluate_model(\"XGBoost method_FD001\", y_test, y_pred_xgb)\n",
    "evaluate_model(\"XGBoost method_FD002\", y_test_2, y_pred_xgb_2)\n",
    "evaluate_model(\"XGBoost method_FD003\", y_test_3, y_pred_xgb_3)\n",
    "evaluate_model(\"XGBoost method_FD004\", y_test_4, y_pred_xgb_4)"
   ]
  },
  {
   "cell_type": "code",
   "execution_count": 110,
   "id": "9351edad-21fa-43f7-9162-073a47a191d5",
   "metadata": {},
   "outputs": [
    {
     "name": "stdout",
     "output_type": "stream",
     "text": [
      "SVR Training Time: 818.587 seconds\n"
     ]
    }
   ],
   "source": [
    "# SVR method\n",
    "start_svr = time.time()\n",
    "svr = SVR(kernel='rbf')\n",
    "svr.fit(X_train_scaled, y_train)\n",
    "y_pred_svr = svr.predict(X_test_scaled)\n",
    "\n",
    "svr_2 = SVR(kernel='rbf')\n",
    "svr_2.fit(X_train_scaled_2, y_train_2)\n",
    "y_pred_svr_2 = svr_2.predict(X_test_scaled_2)\n",
    "\n",
    "svr_3 = SVR(kernel='rbf')\n",
    "svr_3.fit(X_train_scaled_3, y_train_3)\n",
    "y_pred_svr_3 = svr_3.predict(X_test_scaled_3)\n",
    "\n",
    "svr_4 = SVR(kernel='rbf')\n",
    "svr_4.fit(X_train_scaled_4, y_train_4)\n",
    "y_pred_svr_4 = svr_4.predict(X_test_scaled_4)\n",
    "\n",
    "end_svr = time.time()\n",
    "print(f\"SVR Training Time: {end_svr - start_svr:.3f} seconds\")"
   ]
  },
  {
   "cell_type": "code",
   "execution_count": 111,
   "id": "88afaf6e-0301-4a56-890c-41eddc23d629",
   "metadata": {},
   "outputs": [
    {
     "name": "stdout",
     "output_type": "stream",
     "text": [
      "SVR method_FD001: RMSE=681.52, MAE=18.59, R²=0.61, Accuracy = 68.40%, Score=6087.61 \n",
      "SVR method_FD002: RMSE=1699.70, MAE=33.89, R²=0.41, Accuracy = -30.95%, Score=58478.31 \n",
      "SVR method_FD003: RMSE=1857.99, MAE=30.73, R²=-0.08, Accuracy = 55.96%, Score=1403558.87 \n",
      "SVR method_FD004: RMSE=2311.02, MAE=39.74, R²=0.22, Accuracy = -49.31%, Score=717890.67 \n"
     ]
    }
   ],
   "source": [
    "evaluate_model(\"SVR method_FD001\", y_test, y_pred_svr)\n",
    "evaluate_model(\"SVR method_FD002\", y_test_2, y_pred_svr_2)\n",
    "evaluate_model(\"SVR method_FD003\", y_test_3, y_pred_svr_3)\n",
    "evaluate_model(\"SVR method_FD004\", y_test_4, y_pred_svr_4)"
   ]
  },
  {
   "cell_type": "code",
   "execution_count": 113,
   "id": "305b1598-688b-42cf-85a7-3a46135478b0",
   "metadata": {},
   "outputs": [
    {
     "name": "stdout",
     "output_type": "stream",
     "text": [
      "Desion Tree Regressor Training Time: 1.054 seconds\n"
     ]
    }
   ],
   "source": [
    "# Desion Tree Regressor method\n",
    "start_dtr = time.time()\n",
    "dt = DecisionTreeRegressor(max_depth=5)\n",
    "dt.fit(X_train, y_train)\n",
    "y_pred_dtr = dt.predict(X_test)\n",
    "\n",
    "dt_2 = DecisionTreeRegressor(max_depth=5)\n",
    "dt_2.fit(X_train_2, y_train_2)\n",
    "y_pred_dtr_2 = dt_2.predict(X_test_2)\n",
    "\n",
    "dt_3 = DecisionTreeRegressor(max_depth=5)\n",
    "dt_3.fit(X_train_3, y_train_3)\n",
    "y_pred_dtr_3 = dt_3.predict(X_test_3)\n",
    "\n",
    "dt_4 = DecisionTreeRegressor(max_depth=5)\n",
    "dt_4.fit(X_train_4, y_train_4)\n",
    "y_pred_dtr_4 = dt_4.predict(X_test_4)\n",
    "\n",
    "end_dtr = time.time()\n",
    "print(f\"Desion Tree Regressor Training Time: {end_dtr - start_dtr:.3f} seconds\")"
   ]
  },
  {
   "cell_type": "code",
   "execution_count": 114,
   "id": "24e06e80-8038-40c5-94f4-08fba2f87428",
   "metadata": {},
   "outputs": [
    {
     "name": "stdout",
     "output_type": "stream",
     "text": [
      "Desion Tree Regressor method_FD001: RMSE=1247.32, MAE=27.17, R²=0.28, Accuracy = 50.66%, Score=37207.42 \n",
      "Desion Tree Regressor method_FD002: RMSE=1465.66, MAE=29.99, R²=0.49, Accuracy = 23.00%, Score=179948.26 \n",
      "Desion Tree Regressor method_FD003: RMSE=2473.79, MAE=37.56, R²=-0.44, Accuracy = 47.93%, Score=1178988.75 \n",
      "Desion Tree Regressor method_FD004: RMSE=2649.30, MAE=40.74, R²=0.11, Accuracy = 11.25%, Score=3663945.96 \n"
     ]
    }
   ],
   "source": [
    "evaluate_model(\"Desion Tree Regressor method_FD001\", y_test, y_pred_dtr)\n",
    "evaluate_model(\"Desion Tree Regressor method_FD002\", y_test_2, y_pred_dtr_2)\n",
    "evaluate_model(\"Desion Tree Regressor method_FD003\", y_test_3, y_pred_dtr_3)\n",
    "evaluate_model(\"Desion Tree Regressor method_FD004\", y_test_4, y_pred_dtr_4)"
   ]
  },
  {
   "cell_type": "code",
   "execution_count": 115,
   "id": "417f5e8f-6ccc-4915-86f3-9d5b64e44763",
   "metadata": {},
   "outputs": [
    {
     "name": "stdout",
     "output_type": "stream",
     "text": [
      "Gradient Boosting Regressor Training Time: 59.203 seconds\n"
     ]
    }
   ],
   "source": [
    "# Gradient Boosting Regressor method\n",
    "start_gbr = time.time()\n",
    "gbr = GradientBoostingRegressor(n_estimators=100)\n",
    "gbr.fit(X_train, y_train)\n",
    "y_pred_gbr = gbr.predict(X_test)\n",
    "\n",
    "gbr_2 = GradientBoostingRegressor(n_estimators=100)\n",
    "gbr_2.fit(X_train_2, y_train_2)\n",
    "y_pred_gbr_2 = gbr_2.predict(X_test_2)\n",
    "\n",
    "gbr_3 = GradientBoostingRegressor(n_estimators=100)\n",
    "gbr_3.fit(X_train_3, y_train_3)\n",
    "y_pred_gbr_3 = gbr_3.predict(X_test_3)\n",
    "\n",
    "gbr_4 = GradientBoostingRegressor(n_estimators=100)\n",
    "gbr_4.fit(X_train_4, y_train_4)\n",
    "y_pred_gbr_4 = gbr_4.predict(X_test_4)\n",
    "\n",
    "end_gbr = time.time()\n",
    "print(f\"Gradient Boosting Regressor Training Time: {end_gbr - start_gbr:.3f} seconds\")"
   ]
  },
  {
   "cell_type": "code",
   "execution_count": 116,
   "id": "9eed14b2-79d7-4ec3-914c-2cd7d58ab914",
   "metadata": {},
   "outputs": [
    {
     "name": "stdout",
     "output_type": "stream",
     "text": [
      "Gradient Boosting Regressor method_FD001: RMSE=1062.60, MAE=23.54, R²=0.38, Accuracy = 62.45%, Score=23952.91 \n",
      "Gradient Boosting Regressor method_FD002: RMSE=985.90, MAE=24.77, R²=0.66, Accuracy = 47.91%, Score=21634.43 \n",
      "Gradient Boosting Regressor method_FD003: RMSE=2300.81, MAE=35.51, R²=-0.34, Accuracy = 49.58%, Score=460882.65 \n",
      "Gradient Boosting Regressor method_FD004: RMSE=1932.77, MAE=34.76, R²=0.35, Accuracy = 31.98%, Score=468267.83 \n"
     ]
    }
   ],
   "source": [
    "evaluate_model(\"Gradient Boosting Regressor method_FD001\", y_test, y_pred_gbr)\n",
    "evaluate_model(\"Gradient Boosting Regressor method_FD002\", y_test_2, y_pred_gbr_2)\n",
    "evaluate_model(\"Gradient Boosting Regressor method_FD003\", y_test_3, y_pred_gbr_3)\n",
    "evaluate_model(\"Gradient Boosting Regressor method_FD004\", y_test_4, y_pred_gbr_4)"
   ]
  },
  {
   "cell_type": "code",
   "execution_count": 117,
   "id": "45f7c858-725b-479e-99d6-ff60094b1915",
   "metadata": {},
   "outputs": [
    {
     "name": "stdout",
     "output_type": "stream",
     "text": [
      "Extra Tree Regressor Training Time: 90.499 seconds\n"
     ]
    }
   ],
   "source": [
    "# Extra Tree Regressor method\n",
    "start_etr = time.time()\n",
    "etr = ExtraTreesRegressor(n_estimators=100)\n",
    "etr.fit(X_train, y_train)\n",
    "y_pred_etr = etr.predict(X_test)\n",
    "\n",
    "etr_2 = ExtraTreesRegressor(n_estimators=100)\n",
    "etr_2.fit(X_train_2, y_train_2)\n",
    "y_pred_etr_2 = etr_2.predict(X_test_2)\n",
    "\n",
    "etr_3 = ExtraTreesRegressor(n_estimators=100)\n",
    "etr_3.fit(X_train_3, y_train_3)\n",
    "y_pred_etr_3 = etr_3.predict(X_test_3)\n",
    "\n",
    "etr_4 = ExtraTreesRegressor(n_estimators=100)\n",
    "etr_4.fit(X_train_4, y_train_4)\n",
    "y_pred_etr_4 = etr_4.predict(X_test_4)\n",
    "\n",
    "end_etr = time.time()\n",
    "print(f\"Extra Tree Regressor Training Time: {end_etr - start_etr:.3f} seconds\")"
   ]
  },
  {
   "cell_type": "code",
   "execution_count": 118,
   "id": "d3246daa-eb89-4850-a376-580450e9ed4b",
   "metadata": {},
   "outputs": [
    {
     "name": "stdout",
     "output_type": "stream",
     "text": [
      "Extra Tree Regressor method_FD001: RMSE=1082.19, MAE=24.44, R²=0.37, Accuracy = 60.85%, Score=26998.77 \n",
      "Extra Tree Regressor method_FD002: RMSE=1013.79, MAE=23.37, R²=0.65, Accuracy = 61.64%, Score=48112.01 \n",
      "Extra Tree Regressor method_FD003: RMSE=2250.36, MAE=33.43, R²=-0.31, Accuracy = 53.94%, Score=3393750.68 \n",
      "Extra Tree Regressor method_FD004: RMSE=1821.46, MAE=31.10, R²=0.39, Accuracy = 51.93%, Score=3847222.45 \n"
     ]
    }
   ],
   "source": [
    "evaluate_model(\"Extra Tree Regressor method_FD001\", y_test, y_pred_etr)\n",
    "evaluate_model(\"Extra Tree Regressor method_FD002\", y_test_2, y_pred_etr_2)\n",
    "evaluate_model(\"Extra Tree Regressor method_FD003\", y_test_3, y_pred_etr_3)\n",
    "evaluate_model(\"Extra Tree Regressor method_FD004\", y_test_4, y_pred_etr_4)"
   ]
  },
  {
   "cell_type": "code",
   "execution_count": 1,
   "id": "ab6608a1-a977-4958-804f-943c0d5a1f56",
   "metadata": {},
   "outputs": [
    {
     "ename": "NameError",
     "evalue": "name 'time' is not defined",
     "output_type": "error",
     "traceback": [
      "\u001b[31m---------------------------------------------------------------------------\u001b[39m",
      "\u001b[31mNameError\u001b[39m                                 Traceback (most recent call last)",
      "\u001b[36mCell\u001b[39m\u001b[36m \u001b[39m\u001b[32mIn[1]\u001b[39m\u001b[32m, line 2\u001b[39m\n\u001b[32m      1\u001b[39m \u001b[38;5;66;03m# Neural Network model_FD001\u001b[39;00m\n\u001b[32m----> \u001b[39m\u001b[32m2\u001b[39m start_nn = \u001b[43mtime\u001b[49m.time()\n\u001b[32m      3\u001b[39m \u001b[38;5;66;03m# Build model\u001b[39;00m\n\u001b[32m      4\u001b[39m nn_model = Sequential([\n\u001b[32m      5\u001b[39m     Dense(\u001b[32m32\u001b[39m, activation=\u001b[33m'\u001b[39m\u001b[33mrelu\u001b[39m\u001b[33m'\u001b[39m, input_shape=(X_train.shape[\u001b[32m1\u001b[39m],)),\n\u001b[32m      6\u001b[39m     Dense(\u001b[32m16\u001b[39m, activation=\u001b[33m'\u001b[39m\u001b[33mrelu\u001b[39m\u001b[33m'\u001b[39m),\n\u001b[32m      7\u001b[39m     Dense(\u001b[32m1\u001b[39m)\n\u001b[32m      8\u001b[39m ])\n",
      "\u001b[31mNameError\u001b[39m: name 'time' is not defined"
     ]
    }
   ],
   "source": [
    "# Neural Network model_FD001\n",
    "start_nn = time.time()\n",
    "# Build model\n",
    "nn_model = Sequential([\n",
    "    Dense(32, activation='relu', input_shape=(X_train.shape[1],)),\n",
    "    Dense(16, activation='relu'),\n",
    "    Dense(1)\n",
    "])\n",
    "nn_model.compile(optimizer='adam', loss='mse')\n",
    "nn_model.fit(X_train, y_train, epochs=10, batch_size=10, verbose=1)\n",
    "y_pred_nn = nn_model.predict(X_test).flatten()\n",
    "end_nn = time.time()\n",
    "print(f\"Neural Betwork Training Time: {end_nn - start_nn:.3f} seconds\")\n",
    "evaluate_model(\"Neural Network method_FD001\", y_test, y_pred_nn)"
   ]
  },
  {
   "cell_type": "code",
   "execution_count": 181,
   "id": "8e1ab8a2-81f2-462e-97b9-c3d5e9c5dc12",
   "metadata": {},
   "outputs": [
    {
     "name": "stderr",
     "output_type": "stream",
     "text": [
      "C:\\Users\\D-InfoTech\\AppData\\Roaming\\Python\\Python311\\site-packages\\keras\\src\\layers\\rnn\\rnn.py:200: UserWarning: Do not pass an `input_shape`/`input_dim` argument to a layer. When using Sequential models, prefer using an `Input(shape)` object as the first layer in the model instead.\n",
      "  super().__init__(**kwargs)\n"
     ]
    },
    {
     "data": {
      "text/html": [
       "<pre style=\"white-space:pre;overflow-x:auto;line-height:normal;font-family:Menlo,'DejaVu Sans Mono',consolas,'Courier New',monospace\"><span style=\"font-weight: bold\">Model: \"sequential_55\"</span>\n",
       "</pre>\n"
      ],
      "text/plain": [
       "\u001b[1mModel: \"sequential_55\"\u001b[0m\n"
      ]
     },
     "metadata": {},
     "output_type": "display_data"
    },
    {
     "data": {
      "text/html": [
       "<pre style=\"white-space:pre;overflow-x:auto;line-height:normal;font-family:Menlo,'DejaVu Sans Mono',consolas,'Courier New',monospace\">┏━━━━━━━━━━━━━━━━━━━━━━━━━━━━━━━━━━━━━━┳━━━━━━━━━━━━━━━━━━━━━━━━━━━━━┳━━━━━━━━━━━━━━━━━┓\n",
       "┃<span style=\"font-weight: bold\"> Layer (type)                         </span>┃<span style=\"font-weight: bold\"> Output Shape                </span>┃<span style=\"font-weight: bold\">         Param # </span>┃\n",
       "┡━━━━━━━━━━━━━━━━━━━━━━━━━━━━━━━━━━━━━━╇━━━━━━━━━━━━━━━━━━━━━━━━━━━━━╇━━━━━━━━━━━━━━━━━┩\n",
       "│ lstm_110 (<span style=\"color: #0087ff; text-decoration-color: #0087ff\">LSTM</span>)                      │ (<span style=\"color: #00d7ff; text-decoration-color: #00d7ff\">None</span>, <span style=\"color: #00af00; text-decoration-color: #00af00\">30</span>, <span style=\"color: #00af00; text-decoration-color: #00af00\">256</span>)             │         <span style=\"color: #00af00; text-decoration-color: #00af00\">289,792</span> │\n",
       "├──────────────────────────────────────┼─────────────────────────────┼─────────────────┤\n",
       "│ dropout_115 (<span style=\"color: #0087ff; text-decoration-color: #0087ff\">Dropout</span>)                │ (<span style=\"color: #00d7ff; text-decoration-color: #00d7ff\">None</span>, <span style=\"color: #00af00; text-decoration-color: #00af00\">30</span>, <span style=\"color: #00af00; text-decoration-color: #00af00\">256</span>)             │               <span style=\"color: #00af00; text-decoration-color: #00af00\">0</span> │\n",
       "├──────────────────────────────────────┼─────────────────────────────┼─────────────────┤\n",
       "│ lstm_111 (<span style=\"color: #0087ff; text-decoration-color: #0087ff\">LSTM</span>)                      │ (<span style=\"color: #00d7ff; text-decoration-color: #00d7ff\">None</span>, <span style=\"color: #00af00; text-decoration-color: #00af00\">200</span>)                 │         <span style=\"color: #00af00; text-decoration-color: #00af00\">365,600</span> │\n",
       "├──────────────────────────────────────┼─────────────────────────────┼─────────────────┤\n",
       "│ dropout_116 (<span style=\"color: #0087ff; text-decoration-color: #0087ff\">Dropout</span>)                │ (<span style=\"color: #00d7ff; text-decoration-color: #00d7ff\">None</span>, <span style=\"color: #00af00; text-decoration-color: #00af00\">200</span>)                 │               <span style=\"color: #00af00; text-decoration-color: #00af00\">0</span> │\n",
       "├──────────────────────────────────────┼─────────────────────────────┼─────────────────┤\n",
       "│ dense_69 (<span style=\"color: #0087ff; text-decoration-color: #0087ff\">Dense</span>)                     │ (<span style=\"color: #00d7ff; text-decoration-color: #00d7ff\">None</span>, <span style=\"color: #00af00; text-decoration-color: #00af00\">1</span>)                   │             <span style=\"color: #00af00; text-decoration-color: #00af00\">201</span> │\n",
       "└──────────────────────────────────────┴─────────────────────────────┴─────────────────┘\n",
       "</pre>\n"
      ],
      "text/plain": [
       "┏━━━━━━━━━━━━━━━━━━━━━━━━━━━━━━━━━━━━━━┳━━━━━━━━━━━━━━━━━━━━━━━━━━━━━┳━━━━━━━━━━━━━━━━━┓\n",
       "┃\u001b[1m \u001b[0m\u001b[1mLayer (type)                        \u001b[0m\u001b[1m \u001b[0m┃\u001b[1m \u001b[0m\u001b[1mOutput Shape               \u001b[0m\u001b[1m \u001b[0m┃\u001b[1m \u001b[0m\u001b[1m        Param #\u001b[0m\u001b[1m \u001b[0m┃\n",
       "┡━━━━━━━━━━━━━━━━━━━━━━━━━━━━━━━━━━━━━━╇━━━━━━━━━━━━━━━━━━━━━━━━━━━━━╇━━━━━━━━━━━━━━━━━┩\n",
       "│ lstm_110 (\u001b[38;5;33mLSTM\u001b[0m)                      │ (\u001b[38;5;45mNone\u001b[0m, \u001b[38;5;34m30\u001b[0m, \u001b[38;5;34m256\u001b[0m)             │         \u001b[38;5;34m289,792\u001b[0m │\n",
       "├──────────────────────────────────────┼─────────────────────────────┼─────────────────┤\n",
       "│ dropout_115 (\u001b[38;5;33mDropout\u001b[0m)                │ (\u001b[38;5;45mNone\u001b[0m, \u001b[38;5;34m30\u001b[0m, \u001b[38;5;34m256\u001b[0m)             │               \u001b[38;5;34m0\u001b[0m │\n",
       "├──────────────────────────────────────┼─────────────────────────────┼─────────────────┤\n",
       "│ lstm_111 (\u001b[38;5;33mLSTM\u001b[0m)                      │ (\u001b[38;5;45mNone\u001b[0m, \u001b[38;5;34m200\u001b[0m)                 │         \u001b[38;5;34m365,600\u001b[0m │\n",
       "├──────────────────────────────────────┼─────────────────────────────┼─────────────────┤\n",
       "│ dropout_116 (\u001b[38;5;33mDropout\u001b[0m)                │ (\u001b[38;5;45mNone\u001b[0m, \u001b[38;5;34m200\u001b[0m)                 │               \u001b[38;5;34m0\u001b[0m │\n",
       "├──────────────────────────────────────┼─────────────────────────────┼─────────────────┤\n",
       "│ dense_69 (\u001b[38;5;33mDense\u001b[0m)                     │ (\u001b[38;5;45mNone\u001b[0m, \u001b[38;5;34m1\u001b[0m)                   │             \u001b[38;5;34m201\u001b[0m │\n",
       "└──────────────────────────────────────┴─────────────────────────────┴─────────────────┘\n"
      ]
     },
     "metadata": {},
     "output_type": "display_data"
    },
    {
     "data": {
      "text/html": [
       "<pre style=\"white-space:pre;overflow-x:auto;line-height:normal;font-family:Menlo,'DejaVu Sans Mono',consolas,'Courier New',monospace\"><span style=\"font-weight: bold\"> Total params: </span><span style=\"color: #00af00; text-decoration-color: #00af00\">655,593</span> (2.50 MB)\n",
       "</pre>\n"
      ],
      "text/plain": [
       "\u001b[1m Total params: \u001b[0m\u001b[38;5;34m655,593\u001b[0m (2.50 MB)\n"
      ]
     },
     "metadata": {},
     "output_type": "display_data"
    },
    {
     "data": {
      "text/html": [
       "<pre style=\"white-space:pre;overflow-x:auto;line-height:normal;font-family:Menlo,'DejaVu Sans Mono',consolas,'Courier New',monospace\"><span style=\"font-weight: bold\"> Trainable params: </span><span style=\"color: #00af00; text-decoration-color: #00af00\">655,593</span> (2.50 MB)\n",
       "</pre>\n"
      ],
      "text/plain": [
       "\u001b[1m Trainable params: \u001b[0m\u001b[38;5;34m655,593\u001b[0m (2.50 MB)\n"
      ]
     },
     "metadata": {},
     "output_type": "display_data"
    },
    {
     "data": {
      "text/html": [
       "<pre style=\"white-space:pre;overflow-x:auto;line-height:normal;font-family:Menlo,'DejaVu Sans Mono',consolas,'Courier New',monospace\"><span style=\"font-weight: bold\"> Non-trainable params: </span><span style=\"color: #00af00; text-decoration-color: #00af00\">0</span> (0.00 B)\n",
       "</pre>\n"
      ],
      "text/plain": [
       "\u001b[1m Non-trainable params: \u001b[0m\u001b[38;5;34m0\u001b[0m (0.00 B)\n"
      ]
     },
     "metadata": {},
     "output_type": "display_data"
    },
    {
     "name": "stdout",
     "output_type": "stream",
     "text": [
      "Epoch 1/100\n",
      "\u001b[1m221/221\u001b[0m \u001b[32m━━━━━━━━━━━━━━━━━━━━\u001b[0m\u001b[37m\u001b[0m \u001b[1m33s\u001b[0m 131ms/step - loss: 7205.0654 - mae: 74.1747 - val_loss: 6146.0728 - val_mae: 67.2784\n",
      "Epoch 2/100\n",
      "\u001b[1m221/221\u001b[0m \u001b[32m━━━━━━━━━━━━━━━━━━━━\u001b[0m\u001b[37m\u001b[0m \u001b[1m29s\u001b[0m 131ms/step - loss: 5329.7612 - mae: 61.6033 - val_loss: 5552.4731 - val_mae: 63.3162\n",
      "Epoch 3/100\n",
      "\u001b[1m221/221\u001b[0m \u001b[32m━━━━━━━━━━━━━━━━━━━━\u001b[0m\u001b[37m\u001b[0m \u001b[1m28s\u001b[0m 128ms/step - loss: 4767.8677 - mae: 57.2459 - val_loss: 5046.3384 - val_mae: 59.6863\n",
      "Epoch 4/100\n",
      "\u001b[1m221/221\u001b[0m \u001b[32m━━━━━━━━━━━━━━━━━━━━\u001b[0m\u001b[37m\u001b[0m \u001b[1m29s\u001b[0m 130ms/step - loss: 4330.8433 - mae: 53.9735 - val_loss: 4585.2402 - val_mae: 56.2697\n",
      "Epoch 5/100\n",
      "\u001b[1m221/221\u001b[0m \u001b[32m━━━━━━━━━━━━━━━━━━━━\u001b[0m\u001b[37m\u001b[0m \u001b[1m28s\u001b[0m 125ms/step - loss: 3920.9849 - mae: 50.6006 - val_loss: 4161.8706 - val_mae: 53.1055\n",
      "Epoch 6/100\n",
      "\u001b[1m221/221\u001b[0m \u001b[32m━━━━━━━━━━━━━━━━━━━━\u001b[0m\u001b[37m\u001b[0m \u001b[1m28s\u001b[0m 129ms/step - loss: 3561.6250 - mae: 47.8971 - val_loss: 3782.3762 - val_mae: 50.1688\n",
      "Epoch 7/100\n",
      "\u001b[1m221/221\u001b[0m \u001b[32m━━━━━━━━━━━━━━━━━━━━\u001b[0m\u001b[37m\u001b[0m \u001b[1m28s\u001b[0m 127ms/step - loss: 3220.7913 - mae: 44.9667 - val_loss: 3436.1926 - val_mae: 47.5828\n",
      "Epoch 8/100\n",
      "\u001b[1m221/221\u001b[0m \u001b[32m━━━━━━━━━━━━━━━━━━━━\u001b[0m\u001b[37m\u001b[0m \u001b[1m29s\u001b[0m 130ms/step - loss: 2899.7939 - mae: 42.1758 - val_loss: 3120.8882 - val_mae: 45.1446\n",
      "Epoch 9/100\n",
      "\u001b[1m221/221\u001b[0m \u001b[32m━━━━━━━━━━━━━━━━━━━━\u001b[0m\u001b[37m\u001b[0m \u001b[1m27s\u001b[0m 124ms/step - loss: 2580.5505 - mae: 39.3237 - val_loss: 2829.5078 - val_mae: 42.7685\n",
      "Epoch 10/100\n",
      "\u001b[1m221/221\u001b[0m \u001b[32m━━━━━━━━━━━━━━━━━━━━\u001b[0m\u001b[37m\u001b[0m \u001b[1m28s\u001b[0m 127ms/step - loss: 2355.0986 - mae: 37.4736 - val_loss: 2561.1328 - val_mae: 40.4594\n",
      "Epoch 11/100\n",
      "\u001b[1m221/221\u001b[0m \u001b[32m━━━━━━━━━━━━━━━━━━━━\u001b[0m\u001b[37m\u001b[0m \u001b[1m28s\u001b[0m 125ms/step - loss: 2167.4014 - mae: 35.8056 - val_loss: 2323.7534 - val_mae: 38.4802\n",
      "Epoch 12/100\n",
      "\u001b[1m221/221\u001b[0m \u001b[32m━━━━━━━━━━━━━━━━━━━━\u001b[0m\u001b[37m\u001b[0m \u001b[1m29s\u001b[0m 130ms/step - loss: 1952.4230 - mae: 33.9135 - val_loss: 2098.5876 - val_mae: 36.3982\n",
      "Epoch 13/100\n",
      "\u001b[1m221/221\u001b[0m \u001b[32m━━━━━━━━━━━━━━━━━━━━\u001b[0m\u001b[37m\u001b[0m \u001b[1m28s\u001b[0m 127ms/step - loss: 1761.5043 - mae: 32.1727 - val_loss: 1892.4563 - val_mae: 34.4959\n",
      "Epoch 14/100\n",
      "\u001b[1m221/221\u001b[0m \u001b[32m━━━━━━━━━━━━━━━━━━━━\u001b[0m\u001b[37m\u001b[0m \u001b[1m28s\u001b[0m 126ms/step - loss: 1553.7229 - mae: 29.7463 - val_loss: 1699.0975 - val_mae: 32.5493\n",
      "Epoch 15/100\n",
      "\u001b[1m221/221\u001b[0m \u001b[32m━━━━━━━━━━━━━━━━━━━━\u001b[0m\u001b[37m\u001b[0m \u001b[1m27s\u001b[0m 124ms/step - loss: 1406.1951 - mae: 28.2926 - val_loss: 1525.2533 - val_mae: 30.8486\n",
      "Epoch 16/100\n",
      "\u001b[1m221/221\u001b[0m \u001b[32m━━━━━━━━━━━━━━━━━━━━\u001b[0m\u001b[37m\u001b[0m \u001b[1m28s\u001b[0m 126ms/step - loss: 1235.5710 - mae: 26.3448 - val_loss: 1383.6328 - val_mae: 29.1399\n",
      "Epoch 17/100\n",
      "\u001b[1m221/221\u001b[0m \u001b[32m━━━━━━━━━━━━━━━━━━━━\u001b[0m\u001b[37m\u001b[0m \u001b[1m27s\u001b[0m 122ms/step - loss: 1082.3014 - mae: 24.4732 - val_loss: 1241.4528 - val_mae: 28.0479\n",
      "Epoch 18/100\n",
      "\u001b[1m221/221\u001b[0m \u001b[32m━━━━━━━━━━━━━━━━━━━━\u001b[0m\u001b[37m\u001b[0m \u001b[1m28s\u001b[0m 125ms/step - loss: 997.8060 - mae: 23.6104 - val_loss: 1108.7242 - val_mae: 26.4634\n",
      "Epoch 19/100\n",
      "\u001b[1m221/221\u001b[0m \u001b[32m━━━━━━━━━━━━━━━━━━━━\u001b[0m\u001b[37m\u001b[0m \u001b[1m28s\u001b[0m 127ms/step - loss: 861.0538 - mae: 21.7708 - val_loss: 1003.5665 - val_mae: 25.4499\n",
      "Epoch 20/100\n",
      "\u001b[1m221/221\u001b[0m \u001b[32m━━━━━━━━━━━━━━━━━━━━\u001b[0m\u001b[37m\u001b[0m \u001b[1m29s\u001b[0m 130ms/step - loss: 773.5923 - mae: 20.7075 - val_loss: 924.1539 - val_mae: 24.2566\n",
      "Epoch 21/100\n",
      "\u001b[1m221/221\u001b[0m \u001b[32m━━━━━━━━━━━━━━━━━━━━\u001b[0m\u001b[37m\u001b[0m \u001b[1m28s\u001b[0m 128ms/step - loss: 706.5316 - mae: 20.0925 - val_loss: 806.0894 - val_mae: 23.0653\n",
      "Epoch 22/100\n",
      "\u001b[1m221/221\u001b[0m \u001b[32m━━━━━━━━━━━━━━━━━━━━\u001b[0m\u001b[37m\u001b[0m \u001b[1m28s\u001b[0m 128ms/step - loss: 610.3401 - mae: 18.4314 - val_loss: 721.5342 - val_mae: 21.9472\n",
      "Epoch 23/100\n",
      "\u001b[1m221/221\u001b[0m \u001b[32m━━━━━━━━━━━━━━━━━━━━\u001b[0m\u001b[37m\u001b[0m \u001b[1m27s\u001b[0m 122ms/step - loss: 531.5359 - mae: 17.1984 - val_loss: 656.9490 - val_mae: 20.8512\n",
      "Epoch 24/100\n",
      "\u001b[1m221/221\u001b[0m \u001b[32m━━━━━━━━━━━━━━━━━━━━\u001b[0m\u001b[37m\u001b[0m \u001b[1m28s\u001b[0m 125ms/step - loss: 470.6548 - mae: 16.2069 - val_loss: 604.0945 - val_mae: 20.1893\n",
      "Epoch 25/100\n",
      "\u001b[1m221/221\u001b[0m \u001b[32m━━━━━━━━━━━━━━━━━━━━\u001b[0m\u001b[37m\u001b[0m \u001b[1m27s\u001b[0m 122ms/step - loss: 405.2517 - mae: 15.1196 - val_loss: 544.2450 - val_mae: 19.0957\n",
      "Epoch 26/100\n",
      "\u001b[1m221/221\u001b[0m \u001b[32m━━━━━━━━━━━━━━━━━━━━\u001b[0m\u001b[37m\u001b[0m \u001b[1m28s\u001b[0m 125ms/step - loss: 368.4963 - mae: 14.5258 - val_loss: 497.6283 - val_mae: 18.4863\n",
      "Epoch 27/100\n",
      "\u001b[1m221/221\u001b[0m \u001b[32m━━━━━━━━━━━━━━━━━━━━\u001b[0m\u001b[37m\u001b[0m \u001b[1m27s\u001b[0m 122ms/step - loss: 319.5111 - mae: 13.5753 - val_loss: 481.7300 - val_mae: 17.9398\n",
      "Epoch 28/100\n",
      "\u001b[1m221/221\u001b[0m \u001b[32m━━━━━━━━━━━━━━━━━━━━\u001b[0m\u001b[37m\u001b[0m \u001b[1m28s\u001b[0m 126ms/step - loss: 284.9577 - mae: 12.9406 - val_loss: 407.3749 - val_mae: 16.7410\n",
      "Epoch 29/100\n",
      "\u001b[1m221/221\u001b[0m \u001b[32m━━━━━━━━━━━━━━━━━━━━\u001b[0m\u001b[37m\u001b[0m \u001b[1m27s\u001b[0m 123ms/step - loss: 249.9616 - mae: 12.1286 - val_loss: 423.5954 - val_mae: 16.8127\n",
      "Epoch 30/100\n",
      "\u001b[1m221/221\u001b[0m \u001b[32m━━━━━━━━━━━━━━━━━━━━\u001b[0m\u001b[37m\u001b[0m \u001b[1m28s\u001b[0m 126ms/step - loss: 220.3680 - mae: 11.3503 - val_loss: 403.4787 - val_mae: 16.2797\n",
      "Epoch 31/100\n",
      "\u001b[1m221/221\u001b[0m \u001b[32m━━━━━━━━━━━━━━━━━━━━\u001b[0m\u001b[37m\u001b[0m \u001b[1m27s\u001b[0m 122ms/step - loss: 189.5407 - mae: 10.5993 - val_loss: 385.9093 - val_mae: 15.7636\n",
      "Epoch 32/100\n",
      "\u001b[1m221/221\u001b[0m \u001b[32m━━━━━━━━━━━━━━━━━━━━\u001b[0m\u001b[37m\u001b[0m \u001b[1m28s\u001b[0m 126ms/step - loss: 178.8031 - mae: 10.3266 - val_loss: 362.1988 - val_mae: 15.1677\n",
      "Epoch 33/100\n",
      "\u001b[1m221/221\u001b[0m \u001b[32m━━━━━━━━━━━━━━━━━━━━\u001b[0m\u001b[37m\u001b[0m \u001b[1m27s\u001b[0m 123ms/step - loss: 151.7528 - mae: 9.4639 - val_loss: 378.2663 - val_mae: 15.1410\n",
      "Epoch 34/100\n",
      "\u001b[1m221/221\u001b[0m \u001b[32m━━━━━━━━━━━━━━━━━━━━\u001b[0m\u001b[37m\u001b[0m \u001b[1m28s\u001b[0m 125ms/step - loss: 141.6173 - mae: 9.1342 - val_loss: 346.4417 - val_mae: 14.5405\n",
      "Epoch 35/100\n",
      "\u001b[1m221/221\u001b[0m \u001b[32m━━━━━━━━━━━━━━━━━━━━\u001b[0m\u001b[37m\u001b[0m \u001b[1m27s\u001b[0m 122ms/step - loss: 117.4723 - mae: 8.2811 - val_loss: 361.4699 - val_mae: 14.7112\n",
      "Epoch 36/100\n",
      "\u001b[1m221/221\u001b[0m \u001b[32m━━━━━━━━━━━━━━━━━━━━\u001b[0m\u001b[37m\u001b[0m \u001b[1m26s\u001b[0m 116ms/step - loss: 110.2197 - mae: 8.0218 - val_loss: 354.1691 - val_mae: 14.3620\n",
      "Epoch 37/100\n",
      "\u001b[1m221/221\u001b[0m \u001b[32m━━━━━━━━━━━━━━━━━━━━\u001b[0m\u001b[37m\u001b[0m \u001b[1m25s\u001b[0m 115ms/step - loss: 98.2562 - mae: 7.5424 - val_loss: 390.4494 - val_mae: 14.6997\n",
      "Epoch 38/100\n",
      "\u001b[1m221/221\u001b[0m \u001b[32m━━━━━━━━━━━━━━━━━━━━\u001b[0m\u001b[37m\u001b[0m \u001b[1m26s\u001b[0m 117ms/step - loss: 90.7689 - mae: 7.1751 - val_loss: 384.9008 - val_mae: 14.4106\n",
      "Epoch 39/100\n",
      "\u001b[1m221/221\u001b[0m \u001b[32m━━━━━━━━━━━━━━━━━━━━\u001b[0m\u001b[37m\u001b[0m \u001b[1m27s\u001b[0m 121ms/step - loss: 82.6049 - mae: 6.8237 - val_loss: 342.4817 - val_mae: 13.4317\n",
      "Epoch 40/100\n",
      "\u001b[1m221/221\u001b[0m \u001b[32m━━━━━━━━━━━━━━━━━━━━\u001b[0m\u001b[37m\u001b[0m \u001b[1m27s\u001b[0m 121ms/step - loss: 74.8293 - mae: 6.4850 - val_loss: 359.7856 - val_mae: 13.6819\n",
      "Epoch 41/100\n",
      "\u001b[1m221/221\u001b[0m \u001b[32m━━━━━━━━━━━━━━━━━━━━\u001b[0m\u001b[37m\u001b[0m \u001b[1m27s\u001b[0m 123ms/step - loss: 69.6603 - mae: 6.1958 - val_loss: 374.8979 - val_mae: 13.7411\n",
      "Epoch 42/100\n",
      "\u001b[1m221/221\u001b[0m \u001b[32m━━━━━━━━━━━━━━━━━━━━\u001b[0m\u001b[37m\u001b[0m \u001b[1m28s\u001b[0m 125ms/step - loss: 65.7731 - mae: 6.0373 - val_loss: 362.2475 - val_mae: 13.6627\n",
      "Epoch 43/100\n",
      "\u001b[1m221/221\u001b[0m \u001b[32m━━━━━━━━━━━━━━━━━━━━\u001b[0m\u001b[37m\u001b[0m \u001b[1m35s\u001b[0m 158ms/step - loss: 64.5131 - mae: 5.9754 - val_loss: 374.7375 - val_mae: 13.6930\n",
      "Epoch 44/100\n",
      "\u001b[1m221/221\u001b[0m \u001b[32m━━━━━━━━━━━━━━━━━━━━\u001b[0m\u001b[37m\u001b[0m \u001b[1m35s\u001b[0m 158ms/step - loss: 59.1107 - mae: 5.7038 - val_loss: 389.6884 - val_mae: 14.0215\n",
      "Epoch 45/100\n",
      "\u001b[1m221/221\u001b[0m \u001b[32m━━━━━━━━━━━━━━━━━━━━\u001b[0m\u001b[37m\u001b[0m \u001b[1m36s\u001b[0m 164ms/step - loss: 55.1536 - mae: 5.5142 - val_loss: 376.0345 - val_mae: 13.7094\n",
      "Epoch 46/100\n",
      "\u001b[1m221/221\u001b[0m \u001b[32m━━━━━━━━━━━━━━━━━━━━\u001b[0m\u001b[37m\u001b[0m \u001b[1m37s\u001b[0m 167ms/step - loss: 54.3539 - mae: 5.4885 - val_loss: 425.0784 - val_mae: 14.7518\n",
      "Epoch 47/100\n",
      "\u001b[1m221/221\u001b[0m \u001b[32m━━━━━━━━━━━━━━━━━━━━\u001b[0m\u001b[37m\u001b[0m \u001b[1m38s\u001b[0m 170ms/step - loss: 53.3636 - mae: 5.4018 - val_loss: 385.8802 - val_mae: 13.8428\n",
      "Epoch 48/100\n",
      "\u001b[1m221/221\u001b[0m \u001b[32m━━━━━━━━━━━━━━━━━━━━\u001b[0m\u001b[37m\u001b[0m \u001b[1m31s\u001b[0m 141ms/step - loss: 46.9456 - mae: 5.1161 - val_loss: 368.3800 - val_mae: 13.1168\n",
      "Epoch 49/100\n",
      "\u001b[1m221/221\u001b[0m \u001b[32m━━━━━━━━━━━━━━━━━━━━\u001b[0m\u001b[37m\u001b[0m \u001b[1m28s\u001b[0m 125ms/step - loss: 48.3497 - mae: 5.1890 - val_loss: 409.0989 - val_mae: 14.4247\n",
      "Epoch 50/100\n",
      "\u001b[1m221/221\u001b[0m \u001b[32m━━━━━━━━━━━━━━━━━━━━\u001b[0m\u001b[37m\u001b[0m \u001b[1m29s\u001b[0m 129ms/step - loss: 45.0131 - mae: 5.0404 - val_loss: 376.4935 - val_mae: 13.1675\n",
      "Epoch 51/100\n",
      "\u001b[1m221/221\u001b[0m \u001b[32m━━━━━━━━━━━━━━━━━━━━\u001b[0m\u001b[37m\u001b[0m \u001b[1m28s\u001b[0m 126ms/step - loss: 45.4327 - mae: 5.0336 - val_loss: 400.3240 - val_mae: 13.7475\n",
      "Epoch 52/100\n",
      "\u001b[1m221/221\u001b[0m \u001b[32m━━━━━━━━━━━━━━━━━━━━\u001b[0m\u001b[37m\u001b[0m \u001b[1m28s\u001b[0m 129ms/step - loss: 42.9366 - mae: 4.9242 - val_loss: 392.6905 - val_mae: 13.8117\n",
      "Epoch 53/100\n",
      "\u001b[1m221/221\u001b[0m \u001b[32m━━━━━━━━━━━━━━━━━━━━\u001b[0m\u001b[37m\u001b[0m \u001b[1m28s\u001b[0m 125ms/step - loss: 41.1680 - mae: 4.8114 - val_loss: 403.5620 - val_mae: 14.0883\n",
      "Epoch 54/100\n",
      "\u001b[1m221/221\u001b[0m \u001b[32m━━━━━━━━━━━━━━━━━━━━\u001b[0m\u001b[37m\u001b[0m \u001b[1m28s\u001b[0m 126ms/step - loss: 37.6844 - mae: 4.6497 - val_loss: 395.1156 - val_mae: 13.8351\n",
      "Epoch 55/100\n",
      "\u001b[1m221/221\u001b[0m \u001b[32m━━━━━━━━━━━━━━━━━━━━\u001b[0m\u001b[37m\u001b[0m \u001b[1m28s\u001b[0m 128ms/step - loss: 37.3777 - mae: 4.5975 - val_loss: 378.6068 - val_mae: 13.6471\n",
      "Epoch 56/100\n",
      "\u001b[1m221/221\u001b[0m \u001b[32m━━━━━━━━━━━━━━━━━━━━\u001b[0m\u001b[37m\u001b[0m \u001b[1m33s\u001b[0m 151ms/step - loss: 36.9499 - mae: 4.6073 - val_loss: 397.9140 - val_mae: 14.1242\n",
      "Epoch 57/100\n",
      "\u001b[1m221/221\u001b[0m \u001b[32m━━━━━━━━━━━━━━━━━━━━\u001b[0m\u001b[37m\u001b[0m \u001b[1m34s\u001b[0m 153ms/step - loss: 35.9677 - mae: 4.5173 - val_loss: 387.5408 - val_mae: 13.8323\n",
      "Epoch 58/100\n",
      "\u001b[1m221/221\u001b[0m \u001b[32m━━━━━━━━━━━━━━━━━━━━\u001b[0m\u001b[37m\u001b[0m \u001b[1m34s\u001b[0m 155ms/step - loss: 36.6825 - mae: 4.5787 - val_loss: 379.0688 - val_mae: 13.4722\n",
      "Epoch 59/100\n",
      "\u001b[1m221/221\u001b[0m \u001b[32m━━━━━━━━━━━━━━━━━━━━\u001b[0m\u001b[37m\u001b[0m \u001b[1m36s\u001b[0m 161ms/step - loss: 35.3838 - mae: 4.4935 - val_loss: 409.7492 - val_mae: 14.0725\n",
      "Epoch 60/100\n",
      "\u001b[1m221/221\u001b[0m \u001b[32m━━━━━━━━━━━━━━━━━━━━\u001b[0m\u001b[37m\u001b[0m \u001b[1m38s\u001b[0m 172ms/step - loss: 37.1753 - mae: 4.6386 - val_loss: 384.0517 - val_mae: 13.8748\n",
      "Epoch 61/100\n",
      "\u001b[1m221/221\u001b[0m \u001b[32m━━━━━━━━━━━━━━━━━━━━\u001b[0m\u001b[37m\u001b[0m \u001b[1m30s\u001b[0m 135ms/step - loss: 34.5657 - mae: 4.4438 - val_loss: 397.7169 - val_mae: 13.4930\n",
      "Epoch 62/100\n",
      "\u001b[1m221/221\u001b[0m \u001b[32m━━━━━━━━━━━━━━━━━━━━\u001b[0m\u001b[37m\u001b[0m \u001b[1m29s\u001b[0m 130ms/step - loss: 34.5322 - mae: 4.4508 - val_loss: 418.6479 - val_mae: 14.5244\n",
      "Epoch 63/100\n",
      "\u001b[1m221/221\u001b[0m \u001b[32m━━━━━━━━━━━━━━━━━━━━\u001b[0m\u001b[37m\u001b[0m \u001b[1m32s\u001b[0m 146ms/step - loss: 33.5341 - mae: 4.3981 - val_loss: 395.3397 - val_mae: 13.6392\n",
      "Epoch 64/100\n",
      "\u001b[1m221/221\u001b[0m \u001b[32m━━━━━━━━━━━━━━━━━━━━\u001b[0m\u001b[37m\u001b[0m \u001b[1m34s\u001b[0m 156ms/step - loss: 32.0283 - mae: 4.2829 - val_loss: 387.4977 - val_mae: 13.8301\n",
      "Epoch 65/100\n",
      "\u001b[1m221/221\u001b[0m \u001b[32m━━━━━━━━━━━━━━━━━━━━\u001b[0m\u001b[37m\u001b[0m \u001b[1m34s\u001b[0m 156ms/step - loss: 32.8559 - mae: 4.3676 - val_loss: 407.2034 - val_mae: 14.0008\n",
      "Epoch 66/100\n",
      "\u001b[1m221/221\u001b[0m \u001b[32m━━━━━━━━━━━━━━━━━━━━\u001b[0m\u001b[37m\u001b[0m \u001b[1m35s\u001b[0m 160ms/step - loss: 32.3644 - mae: 4.2644 - val_loss: 391.5470 - val_mae: 13.9733\n",
      "Epoch 67/100\n",
      "\u001b[1m221/221\u001b[0m \u001b[32m━━━━━━━━━━━━━━━━━━━━\u001b[0m\u001b[37m\u001b[0m \u001b[1m34s\u001b[0m 155ms/step - loss: 32.1791 - mae: 4.2882 - val_loss: 414.1576 - val_mae: 14.4170\n",
      "Epoch 68/100\n",
      "\u001b[1m221/221\u001b[0m \u001b[32m━━━━━━━━━━━━━━━━━━━━\u001b[0m\u001b[37m\u001b[0m \u001b[1m35s\u001b[0m 158ms/step - loss: 32.3566 - mae: 4.3034 - val_loss: 404.6893 - val_mae: 13.8277\n",
      "Epoch 69/100\n",
      "\u001b[1m221/221\u001b[0m \u001b[32m━━━━━━━━━━━━━━━━━━━━\u001b[0m\u001b[37m\u001b[0m \u001b[1m35s\u001b[0m 156ms/step - loss: 31.6536 - mae: 4.2493 - val_loss: 389.0819 - val_mae: 13.6161\n",
      "Epoch 70/100\n",
      "\u001b[1m221/221\u001b[0m \u001b[32m━━━━━━━━━━━━━━━━━━━━\u001b[0m\u001b[37m\u001b[0m \u001b[1m35s\u001b[0m 158ms/step - loss: 30.8405 - mae: 4.2315 - val_loss: 416.2617 - val_mae: 14.3006\n",
      "Epoch 71/100\n",
      "\u001b[1m221/221\u001b[0m \u001b[32m━━━━━━━━━━━━━━━━━━━━\u001b[0m\u001b[37m\u001b[0m \u001b[1m34s\u001b[0m 155ms/step - loss: 30.6517 - mae: 4.1734 - val_loss: 386.0366 - val_mae: 13.7217\n",
      "Epoch 72/100\n",
      "\u001b[1m221/221\u001b[0m \u001b[32m━━━━━━━━━━━━━━━━━━━━\u001b[0m\u001b[37m\u001b[0m \u001b[1m38s\u001b[0m 172ms/step - loss: 30.2101 - mae: 4.1491 - val_loss: 405.7109 - val_mae: 13.9737\n",
      "Epoch 73/100\n",
      "\u001b[1m221/221\u001b[0m \u001b[32m━━━━━━━━━━━━━━━━━━━━\u001b[0m\u001b[37m\u001b[0m \u001b[1m35s\u001b[0m 158ms/step - loss: 30.6447 - mae: 4.1795 - val_loss: 407.7585 - val_mae: 14.4381\n",
      "Epoch 74/100\n",
      "\u001b[1m221/221\u001b[0m \u001b[32m━━━━━━━━━━━━━━━━━━━━\u001b[0m\u001b[37m\u001b[0m \u001b[1m35s\u001b[0m 157ms/step - loss: 31.5013 - mae: 4.2595 - val_loss: 410.8889 - val_mae: 14.3156\n",
      "Epoch 75/100\n",
      "\u001b[1m221/221\u001b[0m \u001b[32m━━━━━━━━━━━━━━━━━━━━\u001b[0m\u001b[37m\u001b[0m \u001b[1m35s\u001b[0m 159ms/step - loss: 29.8438 - mae: 4.1284 - val_loss: 385.1537 - val_mae: 13.7322\n",
      "Epoch 76/100\n",
      "\u001b[1m221/221\u001b[0m \u001b[32m━━━━━━━━━━━━━━━━━━━━\u001b[0m\u001b[37m\u001b[0m \u001b[1m35s\u001b[0m 157ms/step - loss: 29.5084 - mae: 4.1041 - val_loss: 405.5439 - val_mae: 14.2269\n",
      "Epoch 77/100\n",
      "\u001b[1m221/221\u001b[0m \u001b[32m━━━━━━━━━━━━━━━━━━━━\u001b[0m\u001b[37m\u001b[0m \u001b[1m34s\u001b[0m 152ms/step - loss: 29.8357 - mae: 4.1274 - val_loss: 385.4232 - val_mae: 13.9235\n",
      "Epoch 78/100\n",
      "\u001b[1m221/221\u001b[0m \u001b[32m━━━━━━━━━━━━━━━━━━━━\u001b[0m\u001b[37m\u001b[0m \u001b[1m34s\u001b[0m 154ms/step - loss: 29.7259 - mae: 4.1154 - val_loss: 419.5905 - val_mae: 14.2792\n",
      "Epoch 79/100\n",
      "\u001b[1m221/221\u001b[0m \u001b[32m━━━━━━━━━━━━━━━━━━━━\u001b[0m\u001b[37m\u001b[0m \u001b[1m34s\u001b[0m 152ms/step - loss: 28.8972 - mae: 4.0480 - val_loss: 427.3954 - val_mae: 14.5511\n",
      "Epoch 80/100\n",
      "\u001b[1m221/221\u001b[0m \u001b[32m━━━━━━━━━━━━━━━━━━━━\u001b[0m\u001b[37m\u001b[0m \u001b[1m35s\u001b[0m 158ms/step - loss: 29.1765 - mae: 4.0761 - val_loss: 418.3682 - val_mae: 14.2516\n",
      "Epoch 81/100\n",
      "\u001b[1m221/221\u001b[0m \u001b[32m━━━━━━━━━━━━━━━━━━━━\u001b[0m\u001b[37m\u001b[0m \u001b[1m34s\u001b[0m 153ms/step - loss: 28.7677 - mae: 4.0594 - val_loss: 403.9015 - val_mae: 14.2326\n",
      "Epoch 82/100\n",
      "\u001b[1m221/221\u001b[0m \u001b[32m━━━━━━━━━━━━━━━━━━━━\u001b[0m\u001b[37m\u001b[0m \u001b[1m35s\u001b[0m 156ms/step - loss: 29.6483 - mae: 4.1199 - val_loss: 393.5186 - val_mae: 13.7543\n",
      "Epoch 83/100\n",
      "\u001b[1m221/221\u001b[0m \u001b[32m━━━━━━━━━━━━━━━━━━━━\u001b[0m\u001b[37m\u001b[0m \u001b[1m34s\u001b[0m 153ms/step - loss: 27.7378 - mae: 3.9913 - val_loss: 407.7842 - val_mae: 14.1346\n",
      "Epoch 84/100\n",
      "\u001b[1m221/221\u001b[0m \u001b[32m━━━━━━━━━━━━━━━━━━━━\u001b[0m\u001b[37m\u001b[0m \u001b[1m35s\u001b[0m 157ms/step - loss: 28.0340 - mae: 3.9943 - val_loss: 418.4162 - val_mae: 14.5798\n",
      "Epoch 85/100\n",
      "\u001b[1m221/221\u001b[0m \u001b[32m━━━━━━━━━━━━━━━━━━━━\u001b[0m\u001b[37m\u001b[0m \u001b[1m35s\u001b[0m 160ms/step - loss: 28.6969 - mae: 4.0793 - val_loss: 399.8253 - val_mae: 14.2068\n",
      "Epoch 86/100\n",
      "\u001b[1m221/221\u001b[0m \u001b[32m━━━━━━━━━━━━━━━━━━━━\u001b[0m\u001b[37m\u001b[0m \u001b[1m35s\u001b[0m 158ms/step - loss: 28.1308 - mae: 4.0124 - val_loss: 394.0517 - val_mae: 13.9204\n",
      "Epoch 87/100\n",
      "\u001b[1m221/221\u001b[0m \u001b[32m━━━━━━━━━━━━━━━━━━━━\u001b[0m\u001b[37m\u001b[0m \u001b[1m35s\u001b[0m 158ms/step - loss: 27.8343 - mae: 3.9766 - val_loss: 405.4848 - val_mae: 14.0109\n",
      "Epoch 88/100\n",
      "\u001b[1m221/221\u001b[0m \u001b[32m━━━━━━━━━━━━━━━━━━━━\u001b[0m\u001b[37m\u001b[0m \u001b[1m35s\u001b[0m 157ms/step - loss: 28.5981 - mae: 4.0455 - val_loss: 403.0307 - val_mae: 14.2937\n",
      "Epoch 89/100\n",
      "\u001b[1m221/221\u001b[0m \u001b[32m━━━━━━━━━━━━━━━━━━━━\u001b[0m\u001b[37m\u001b[0m \u001b[1m35s\u001b[0m 159ms/step - loss: 27.3233 - mae: 3.9526 - val_loss: 385.5690 - val_mae: 13.7860\n",
      "Epoch 90/100\n",
      "\u001b[1m221/221\u001b[0m \u001b[32m━━━━━━━━━━━━━━━━━━━━\u001b[0m\u001b[37m\u001b[0m \u001b[1m35s\u001b[0m 157ms/step - loss: 27.9809 - mae: 4.0104 - val_loss: 403.4725 - val_mae: 13.9259\n",
      "Epoch 91/100\n",
      "\u001b[1m221/221\u001b[0m \u001b[32m━━━━━━━━━━━━━━━━━━━━\u001b[0m\u001b[37m\u001b[0m \u001b[1m35s\u001b[0m 158ms/step - loss: 27.3289 - mae: 3.9877 - val_loss: 415.6488 - val_mae: 14.3266\n",
      "Epoch 92/100\n",
      "\u001b[1m221/221\u001b[0m \u001b[32m━━━━━━━━━━━━━━━━━━━━\u001b[0m\u001b[37m\u001b[0m \u001b[1m35s\u001b[0m 158ms/step - loss: 27.0710 - mae: 3.9456 - val_loss: 409.2454 - val_mae: 14.2891\n",
      "Epoch 93/100\n",
      "\u001b[1m221/221\u001b[0m \u001b[32m━━━━━━━━━━━━━━━━━━━━\u001b[0m\u001b[37m\u001b[0m \u001b[1m45s\u001b[0m 203ms/step - loss: 26.2517 - mae: 3.8753 - val_loss: 411.0773 - val_mae: 14.2278\n",
      "Epoch 94/100\n",
      "\u001b[1m221/221\u001b[0m \u001b[32m━━━━━━━━━━━━━━━━━━━━\u001b[0m\u001b[37m\u001b[0m \u001b[1m41s\u001b[0m 183ms/step - loss: 27.6519 - mae: 3.9841 - val_loss: 403.0195 - val_mae: 13.9525\n",
      "Epoch 95/100\n",
      "\u001b[1m221/221\u001b[0m \u001b[32m━━━━━━━━━━━━━━━━━━━━\u001b[0m\u001b[37m\u001b[0m \u001b[1m35s\u001b[0m 160ms/step - loss: 27.6539 - mae: 3.9756 - val_loss: 410.2951 - val_mae: 14.1828\n",
      "Epoch 96/100\n",
      "\u001b[1m221/221\u001b[0m \u001b[32m━━━━━━━━━━━━━━━━━━━━\u001b[0m\u001b[37m\u001b[0m \u001b[1m36s\u001b[0m 161ms/step - loss: 27.0070 - mae: 3.9171 - val_loss: 409.5775 - val_mae: 14.1232\n",
      "Epoch 97/100\n",
      "\u001b[1m221/221\u001b[0m \u001b[32m━━━━━━━━━━━━━━━━━━━━\u001b[0m\u001b[37m\u001b[0m \u001b[1m39s\u001b[0m 178ms/step - loss: 26.8507 - mae: 3.9164 - val_loss: 399.5292 - val_mae: 13.9243\n",
      "Epoch 98/100\n",
      "\u001b[1m221/221\u001b[0m \u001b[32m━━━━━━━━━━━━━━━━━━━━\u001b[0m\u001b[37m\u001b[0m \u001b[1m34s\u001b[0m 154ms/step - loss: 27.2626 - mae: 3.9306 - val_loss: 399.0310 - val_mae: 14.0757\n",
      "Epoch 99/100\n",
      "\u001b[1m221/221\u001b[0m \u001b[32m━━━━━━━━━━━━━━━━━━━━\u001b[0m\u001b[37m\u001b[0m \u001b[1m36s\u001b[0m 164ms/step - loss: 27.1479 - mae: 3.9303 - val_loss: 409.6299 - val_mae: 13.9876\n",
      "Epoch 100/100\n",
      "\u001b[1m221/221\u001b[0m \u001b[32m━━━━━━━━━━━━━━━━━━━━\u001b[0m\u001b[37m\u001b[0m \u001b[1m35s\u001b[0m 160ms/step - loss: 27.1154 - mae: 3.9328 - val_loss: 412.9594 - val_mae: 14.5000\n",
      "LSTM Training Time: 3149.92 seconds\n",
      "\u001b[1m4/4\u001b[0m \u001b[32m━━━━━━━━━━━━━━━━━━━━\u001b[0m\u001b[37m\u001b[0m \u001b[1m2s\u001b[0m 287ms/step\n",
      "Extra Tree Regressor Training Time: 3151.871 seconds\n",
      "LSTM Method: RMSE=333.21, MAE=13.82, R²=0.81, Accuracy = 79.46%, Score=606.11 \n"
     ]
    }
   ],
   "source": [
    "#LSTM Model training_ FD001\n",
    "start_lstm = time.time()\n",
    "\n",
    "scaler = StandardScaler()\n",
    "train_df[features] = scaler.fit_transform(train_df[features])\n",
    "test_df[features] = scaler.transform(test_df[features])\n",
    "\n",
    "test_max_cycle = test_df.groupby('engine_id')['cycle'].max().reset_index()\n",
    "test_max_cycle.columns = ['engine_id', 'max_cycle']\n",
    "test_df = test_df.merge(test_max_cycle, on='engine_id')\n",
    "test_df['RUL'] = test_df['max_cycle'] - test_df['cycle']\n",
    "test_df.drop('max_cycle', axis=1, inplace=True)\n",
    "\n",
    "train_df['RUL'] = train_df['RUL'].clip(upper=130)\n",
    "test_df['RUL'] = test_df['RUL'].clip(upper=130)\n",
    "\n",
    "sequence_length = 30\n",
    "\n",
    "train_df[features] = train_df[features].fillna(0)\n",
    "\n",
    "def create_sequences(df, sequence_length, features):\n",
    "    sequences = []\n",
    "    labels = []\n",
    "    for engine_id in df['engine_id'].unique():\n",
    "        engine_data = df[df['engine_id'] == engine_id]\n",
    "        for i in range(len(engine_data) - sequence_length):\n",
    "            seq = engine_data[features].iloc[i:i+sequence_length].values\n",
    "            label = engine_data['RUL'].iloc[i + sequence_length]\n",
    "            sequences.append(seq)\n",
    "            labels.append(label)\n",
    "    return np.array(sequences), np.array(labels)\n",
    "    \n",
    "X_train_seq, y_train_seq = create_sequences(train_df, sequence_length, features)\n",
    "#X_test_seq, y_test_seq = create_sequences(test_df, sequence_length, features)\n",
    "\n",
    "num_features = X_train_seq.shape[2]\n",
    "\n",
    "model = Sequential()\n",
    "model.add(LSTM(256, return_sequences=True, input_shape=(sequence_length, num_features)))\n",
    "model.add(Dropout(0.3))\n",
    "model.add(LSTM(200))\n",
    "model.add(Dropout(0.3))\n",
    "model.add(Dense(1)) \n",
    "\n",
    "optimizer = Adam(learning_rate=1e-4)\n",
    "model.compile(optimizer=optimizer, loss='mse', metrics=['mae'])\n",
    "model.summary()\n",
    "\n",
    "start_lstm = time.time()\n",
    "model.fit(X_train_seq, y_train_seq, validation_split=0.2, epochs=100, batch_size=64)\n",
    "end_lstm = time.time()\n",
    "print(f\"LSTM Training Time: {end_lstm - start_lstm:.2f} seconds\")\n",
    "\n",
    "test_sequences = []\n",
    "valid_engine_ids = []\n",
    "\n",
    "for engine_id in test_df[\"engine_id\"].unique():\n",
    "    engine_data = test_df[test_df[\"engine_id\"] == engine_id][features]\n",
    "    seq = engine_data.values\n",
    "    if len(seq) < sequence_length:\n",
    "        # Pad at the beginning with the first row repeated\n",
    "        pad_width = sequence_length - len(seq)\n",
    "        pad = np.repeat(seq[[0]], pad_width, axis=0)\n",
    "        seq = np.vstack((pad, seq))\n",
    "    else:\n",
    "        seq = seq[-sequence_length:]  # last 30 steps\n",
    "\n",
    "    test_sequences.append(seq)\n",
    "    valid_engine_ids.append(engine_id)\n",
    "\n",
    "\n",
    "X_test_seq = np.array(test_sequences)\n",
    "X_test_seq = np.nan_to_num(X_test_seq)\n",
    "y_pred_lstm = model.predict(X_test_seq).flatten()\n",
    "\n",
    "end_lstm = time.time()\n",
    "print(f\"Extra Tree Regressor Training Time: {end_lstm - start_lstm:.3f} seconds\")\n",
    "\n",
    "# Convert to numpy arrays if not already\n",
    "y_test_array = np.array(y_test)\n",
    "y_pred_array = np.array(y_pred_lstm)\n",
    "\n",
    "# Create a mask to filter out NaNs\n",
    "mask = ~np.isnan(y_test_array) & ~np.isnan(y_pred_array)\n",
    "\n",
    "# Filter\n",
    "y_test_clean = y_test_array[mask]\n",
    "y_pred_clean = y_pred_array[mask]\n",
    "\n",
    "evaluate_model(\"LSTM Method\", y_test, y_pred_lstm)"
   ]
  },
  {
   "cell_type": "code",
   "execution_count": 179,
   "id": "fe697abc-722e-43ce-b6cc-7bf0a06424a4",
   "metadata": {},
   "outputs": [
    {
     "name": "stderr",
     "output_type": "stream",
     "text": [
      "C:\\Users\\D-InfoTech\\AppData\\Roaming\\Python\\Python311\\site-packages\\keras\\src\\layers\\rnn\\bidirectional.py:107: UserWarning: Do not pass an `input_shape`/`input_dim` argument to a layer. When using Sequential models, prefer using an `Input(shape)` object as the first layer in the model instead.\n",
      "  super().__init__(**kwargs)\n"
     ]
    },
    {
     "data": {
      "text/html": [
       "<pre style=\"white-space:pre;overflow-x:auto;line-height:normal;font-family:Menlo,'DejaVu Sans Mono',consolas,'Courier New',monospace\"><span style=\"font-weight: bold\">Model: \"sequential_54\"</span>\n",
       "</pre>\n"
      ],
      "text/plain": [
       "\u001b[1mModel: \"sequential_54\"\u001b[0m\n"
      ]
     },
     "metadata": {},
     "output_type": "display_data"
    },
    {
     "data": {
      "text/html": [
       "<pre style=\"white-space:pre;overflow-x:auto;line-height:normal;font-family:Menlo,'DejaVu Sans Mono',consolas,'Courier New',monospace\">┏━━━━━━━━━━━━━━━━━━━━━━━━━━━━━━━━━━━━━━┳━━━━━━━━━━━━━━━━━━━━━━━━━━━━━┳━━━━━━━━━━━━━━━━━┓\n",
       "┃<span style=\"font-weight: bold\"> Layer (type)                         </span>┃<span style=\"font-weight: bold\"> Output Shape                </span>┃<span style=\"font-weight: bold\">         Param # </span>┃\n",
       "┡━━━━━━━━━━━━━━━━━━━━━━━━━━━━━━━━━━━━━━╇━━━━━━━━━━━━━━━━━━━━━━━━━━━━━╇━━━━━━━━━━━━━━━━━┩\n",
       "│ bidirectional_85 (<span style=\"color: #0087ff; text-decoration-color: #0087ff\">Bidirectional</span>)     │ (<span style=\"color: #00d7ff; text-decoration-color: #00d7ff\">None</span>, <span style=\"color: #00af00; text-decoration-color: #00af00\">30</span>, <span style=\"color: #00af00; text-decoration-color: #00af00\">256</span>)             │         <span style=\"color: #00af00; text-decoration-color: #00af00\">158,720</span> │\n",
       "├──────────────────────────────────────┼─────────────────────────────┼─────────────────┤\n",
       "│ dropout_112 (<span style=\"color: #0087ff; text-decoration-color: #0087ff\">Dropout</span>)                │ (<span style=\"color: #00d7ff; text-decoration-color: #00d7ff\">None</span>, <span style=\"color: #00af00; text-decoration-color: #00af00\">30</span>, <span style=\"color: #00af00; text-decoration-color: #00af00\">256</span>)             │               <span style=\"color: #00af00; text-decoration-color: #00af00\">0</span> │\n",
       "├──────────────────────────────────────┼─────────────────────────────┼─────────────────┤\n",
       "│ bidirectional_86 (<span style=\"color: #0087ff; text-decoration-color: #0087ff\">Bidirectional</span>)     │ (<span style=\"color: #00d7ff; text-decoration-color: #00d7ff\">None</span>, <span style=\"color: #00af00; text-decoration-color: #00af00\">30</span>, <span style=\"color: #00af00; text-decoration-color: #00af00\">128</span>)             │         <span style=\"color: #00af00; text-decoration-color: #00af00\">164,352</span> │\n",
       "├──────────────────────────────────────┼─────────────────────────────┼─────────────────┤\n",
       "│ dropout_113 (<span style=\"color: #0087ff; text-decoration-color: #0087ff\">Dropout</span>)                │ (<span style=\"color: #00d7ff; text-decoration-color: #00d7ff\">None</span>, <span style=\"color: #00af00; text-decoration-color: #00af00\">30</span>, <span style=\"color: #00af00; text-decoration-color: #00af00\">128</span>)             │               <span style=\"color: #00af00; text-decoration-color: #00af00\">0</span> │\n",
       "├──────────────────────────────────────┼─────────────────────────────┼─────────────────┤\n",
       "│ bidirectional_87 (<span style=\"color: #0087ff; text-decoration-color: #0087ff\">Bidirectional</span>)     │ (<span style=\"color: #00d7ff; text-decoration-color: #00d7ff\">None</span>, <span style=\"color: #00af00; text-decoration-color: #00af00\">128</span>)                 │          <span style=\"color: #00af00; text-decoration-color: #00af00\">98,816</span> │\n",
       "├──────────────────────────────────────┼─────────────────────────────┼─────────────────┤\n",
       "│ dropout_114 (<span style=\"color: #0087ff; text-decoration-color: #0087ff\">Dropout</span>)                │ (<span style=\"color: #00d7ff; text-decoration-color: #00d7ff\">None</span>, <span style=\"color: #00af00; text-decoration-color: #00af00\">128</span>)                 │               <span style=\"color: #00af00; text-decoration-color: #00af00\">0</span> │\n",
       "├──────────────────────────────────────┼─────────────────────────────┼─────────────────┤\n",
       "│ dense_68 (<span style=\"color: #0087ff; text-decoration-color: #0087ff\">Dense</span>)                     │ (<span style=\"color: #00d7ff; text-decoration-color: #00d7ff\">None</span>, <span style=\"color: #00af00; text-decoration-color: #00af00\">1</span>)                   │             <span style=\"color: #00af00; text-decoration-color: #00af00\">129</span> │\n",
       "└──────────────────────────────────────┴─────────────────────────────┴─────────────────┘\n",
       "</pre>\n"
      ],
      "text/plain": [
       "┏━━━━━━━━━━━━━━━━━━━━━━━━━━━━━━━━━━━━━━┳━━━━━━━━━━━━━━━━━━━━━━━━━━━━━┳━━━━━━━━━━━━━━━━━┓\n",
       "┃\u001b[1m \u001b[0m\u001b[1mLayer (type)                        \u001b[0m\u001b[1m \u001b[0m┃\u001b[1m \u001b[0m\u001b[1mOutput Shape               \u001b[0m\u001b[1m \u001b[0m┃\u001b[1m \u001b[0m\u001b[1m        Param #\u001b[0m\u001b[1m \u001b[0m┃\n",
       "┡━━━━━━━━━━━━━━━━━━━━━━━━━━━━━━━━━━━━━━╇━━━━━━━━━━━━━━━━━━━━━━━━━━━━━╇━━━━━━━━━━━━━━━━━┩\n",
       "│ bidirectional_85 (\u001b[38;5;33mBidirectional\u001b[0m)     │ (\u001b[38;5;45mNone\u001b[0m, \u001b[38;5;34m30\u001b[0m, \u001b[38;5;34m256\u001b[0m)             │         \u001b[38;5;34m158,720\u001b[0m │\n",
       "├──────────────────────────────────────┼─────────────────────────────┼─────────────────┤\n",
       "│ dropout_112 (\u001b[38;5;33mDropout\u001b[0m)                │ (\u001b[38;5;45mNone\u001b[0m, \u001b[38;5;34m30\u001b[0m, \u001b[38;5;34m256\u001b[0m)             │               \u001b[38;5;34m0\u001b[0m │\n",
       "├──────────────────────────────────────┼─────────────────────────────┼─────────────────┤\n",
       "│ bidirectional_86 (\u001b[38;5;33mBidirectional\u001b[0m)     │ (\u001b[38;5;45mNone\u001b[0m, \u001b[38;5;34m30\u001b[0m, \u001b[38;5;34m128\u001b[0m)             │         \u001b[38;5;34m164,352\u001b[0m │\n",
       "├──────────────────────────────────────┼─────────────────────────────┼─────────────────┤\n",
       "│ dropout_113 (\u001b[38;5;33mDropout\u001b[0m)                │ (\u001b[38;5;45mNone\u001b[0m, \u001b[38;5;34m30\u001b[0m, \u001b[38;5;34m128\u001b[0m)             │               \u001b[38;5;34m0\u001b[0m │\n",
       "├──────────────────────────────────────┼─────────────────────────────┼─────────────────┤\n",
       "│ bidirectional_87 (\u001b[38;5;33mBidirectional\u001b[0m)     │ (\u001b[38;5;45mNone\u001b[0m, \u001b[38;5;34m128\u001b[0m)                 │          \u001b[38;5;34m98,816\u001b[0m │\n",
       "├──────────────────────────────────────┼─────────────────────────────┼─────────────────┤\n",
       "│ dropout_114 (\u001b[38;5;33mDropout\u001b[0m)                │ (\u001b[38;5;45mNone\u001b[0m, \u001b[38;5;34m128\u001b[0m)                 │               \u001b[38;5;34m0\u001b[0m │\n",
       "├──────────────────────────────────────┼─────────────────────────────┼─────────────────┤\n",
       "│ dense_68 (\u001b[38;5;33mDense\u001b[0m)                     │ (\u001b[38;5;45mNone\u001b[0m, \u001b[38;5;34m1\u001b[0m)                   │             \u001b[38;5;34m129\u001b[0m │\n",
       "└──────────────────────────────────────┴─────────────────────────────┴─────────────────┘\n"
      ]
     },
     "metadata": {},
     "output_type": "display_data"
    },
    {
     "data": {
      "text/html": [
       "<pre style=\"white-space:pre;overflow-x:auto;line-height:normal;font-family:Menlo,'DejaVu Sans Mono',consolas,'Courier New',monospace\"><span style=\"font-weight: bold\"> Total params: </span><span style=\"color: #00af00; text-decoration-color: #00af00\">422,017</span> (1.61 MB)\n",
       "</pre>\n"
      ],
      "text/plain": [
       "\u001b[1m Total params: \u001b[0m\u001b[38;5;34m422,017\u001b[0m (1.61 MB)\n"
      ]
     },
     "metadata": {},
     "output_type": "display_data"
    },
    {
     "data": {
      "text/html": [
       "<pre style=\"white-space:pre;overflow-x:auto;line-height:normal;font-family:Menlo,'DejaVu Sans Mono',consolas,'Courier New',monospace\"><span style=\"font-weight: bold\"> Trainable params: </span><span style=\"color: #00af00; text-decoration-color: #00af00\">422,017</span> (1.61 MB)\n",
       "</pre>\n"
      ],
      "text/plain": [
       "\u001b[1m Trainable params: \u001b[0m\u001b[38;5;34m422,017\u001b[0m (1.61 MB)\n"
      ]
     },
     "metadata": {},
     "output_type": "display_data"
    },
    {
     "data": {
      "text/html": [
       "<pre style=\"white-space:pre;overflow-x:auto;line-height:normal;font-family:Menlo,'DejaVu Sans Mono',consolas,'Courier New',monospace\"><span style=\"font-weight: bold\"> Non-trainable params: </span><span style=\"color: #00af00; text-decoration-color: #00af00\">0</span> (0.00 B)\n",
       "</pre>\n"
      ],
      "text/plain": [
       "\u001b[1m Non-trainable params: \u001b[0m\u001b[38;5;34m0\u001b[0m (0.00 B)\n"
      ]
     },
     "metadata": {},
     "output_type": "display_data"
    },
    {
     "name": "stdout",
     "output_type": "stream",
     "text": [
      "Epoch 1/100\n",
      "\u001b[1m207/207\u001b[0m \u001b[32m━━━━━━━━━━━━━━━━━━━━\u001b[0m\u001b[37m\u001b[0m \u001b[1m42s\u001b[0m 119ms/step - loss: 7754.6772 - mae: 77.3908 - val_loss: 6720.3237 - val_mae: 70.8598\n",
      "Epoch 2/100\n",
      "\u001b[1m207/207\u001b[0m \u001b[32m━━━━━━━━━━━━━━━━━━━━\u001b[0m\u001b[37m\u001b[0m \u001b[1m21s\u001b[0m 101ms/step - loss: 5869.8638 - mae: 65.0632 - val_loss: 6172.4487 - val_mae: 67.2961\n",
      "Epoch 3/100\n",
      "\u001b[1m207/207\u001b[0m \u001b[32m━━━━━━━━━━━━━━━━━━━━\u001b[0m\u001b[37m\u001b[0m \u001b[1m21s\u001b[0m 102ms/step - loss: 5406.7725 - mae: 61.8230 - val_loss: 5791.7832 - val_mae: 64.6841\n",
      "Epoch 4/100\n",
      "\u001b[1m207/207\u001b[0m \u001b[32m━━━━━━━━━━━━━━━━━━━━\u001b[0m\u001b[37m\u001b[0m \u001b[1m21s\u001b[0m 103ms/step - loss: 5068.8784 - mae: 59.1903 - val_loss: 5448.8643 - val_mae: 62.2248\n",
      "Epoch 5/100\n",
      "\u001b[1m207/207\u001b[0m \u001b[32m━━━━━━━━━━━━━━━━━━━━\u001b[0m\u001b[37m\u001b[0m \u001b[1m21s\u001b[0m 102ms/step - loss: 4707.1113 - mae: 56.3594 - val_loss: 5131.8970 - val_mae: 60.0610\n",
      "Epoch 6/100\n",
      "\u001b[1m207/207\u001b[0m \u001b[32m━━━━━━━━━━━━━━━━━━━━\u001b[0m\u001b[37m\u001b[0m \u001b[1m22s\u001b[0m 104ms/step - loss: 4453.3589 - mae: 54.4378 - val_loss: 4835.1201 - val_mae: 57.8635\n",
      "Epoch 7/100\n",
      "\u001b[1m207/207\u001b[0m \u001b[32m━━━━━━━━━━━━━━━━━━━━\u001b[0m\u001b[37m\u001b[0m \u001b[1m22s\u001b[0m 107ms/step - loss: 4201.5298 - mae: 52.5691 - val_loss: 4558.7183 - val_mae: 55.9036\n",
      "Epoch 8/100\n",
      "\u001b[1m207/207\u001b[0m \u001b[32m━━━━━━━━━━━━━━━━━━━━\u001b[0m\u001b[37m\u001b[0m \u001b[1m22s\u001b[0m 107ms/step - loss: 3996.1411 - mae: 51.0981 - val_loss: 4295.4463 - val_mae: 53.9482\n",
      "Epoch 9/100\n",
      "\u001b[1m207/207\u001b[0m \u001b[32m━━━━━━━━━━━━━━━━━━━━\u001b[0m\u001b[37m\u001b[0m \u001b[1m22s\u001b[0m 107ms/step - loss: 3687.6975 - mae: 48.5816 - val_loss: 4046.7515 - val_mae: 52.0781\n",
      "Epoch 10/100\n",
      "\u001b[1m207/207\u001b[0m \u001b[32m━━━━━━━━━━━━━━━━━━━━\u001b[0m\u001b[37m\u001b[0m \u001b[1m23s\u001b[0m 110ms/step - loss: 3496.8447 - mae: 47.2183 - val_loss: 3811.0408 - val_mae: 50.3138\n",
      "Epoch 11/100\n",
      "\u001b[1m207/207\u001b[0m \u001b[32m━━━━━━━━━━━━━━━━━━━━\u001b[0m\u001b[37m\u001b[0m \u001b[1m22s\u001b[0m 106ms/step - loss: 3277.7310 - mae: 45.3318 - val_loss: 3587.2734 - val_mae: 48.5555\n",
      "Epoch 12/100\n",
      "\u001b[1m207/207\u001b[0m \u001b[32m━━━━━━━━━━━━━━━━━━━━\u001b[0m\u001b[37m\u001b[0m \u001b[1m22s\u001b[0m 108ms/step - loss: 3078.3037 - mae: 43.7228 - val_loss: 3374.9260 - val_mae: 46.9079\n",
      "Epoch 13/100\n",
      "\u001b[1m207/207\u001b[0m \u001b[32m━━━━━━━━━━━━━━━━━━━━\u001b[0m\u001b[37m\u001b[0m \u001b[1m22s\u001b[0m 107ms/step - loss: 2915.7124 - mae: 42.3398 - val_loss: 3173.5144 - val_mae: 45.3317\n",
      "Epoch 14/100\n",
      "\u001b[1m207/207\u001b[0m \u001b[32m━━━━━━━━━━━━━━━━━━━━\u001b[0m\u001b[37m\u001b[0m \u001b[1m22s\u001b[0m 107ms/step - loss: 2740.2236 - mae: 40.7833 - val_loss: 2981.3882 - val_mae: 43.7387\n",
      "Epoch 15/100\n",
      "\u001b[1m207/207\u001b[0m \u001b[32m━━━━━━━━━━━━━━━━━━━━\u001b[0m\u001b[37m\u001b[0m \u001b[1m22s\u001b[0m 108ms/step - loss: 2525.0647 - mae: 38.7313 - val_loss: 2799.0166 - val_mae: 42.2890\n",
      "Epoch 16/100\n",
      "\u001b[1m207/207\u001b[0m \u001b[32m━━━━━━━━━━━━━━━━━━━━\u001b[0m\u001b[37m\u001b[0m \u001b[1m24s\u001b[0m 115ms/step - loss: 2402.3535 - mae: 37.8892 - val_loss: 2624.4395 - val_mae: 40.7649\n",
      "Epoch 17/100\n",
      "\u001b[1m207/207\u001b[0m \u001b[32m━━━━━━━━━━━━━━━━━━━━\u001b[0m\u001b[37m\u001b[0m \u001b[1m23s\u001b[0m 113ms/step - loss: 2223.3513 - mae: 36.0708 - val_loss: 2462.5996 - val_mae: 39.5139\n",
      "Epoch 18/100\n",
      "\u001b[1m207/207\u001b[0m \u001b[32m━━━━━━━━━━━━━━━━━━━━\u001b[0m\u001b[37m\u001b[0m \u001b[1m23s\u001b[0m 109ms/step - loss: 2059.7756 - mae: 34.4961 - val_loss: 2302.3452 - val_mae: 38.0473\n",
      "Epoch 19/100\n",
      "\u001b[1m207/207\u001b[0m \u001b[32m━━━━━━━━━━━━━━━━━━━━\u001b[0m\u001b[37m\u001b[0m \u001b[1m22s\u001b[0m 107ms/step - loss: 1933.0615 - mae: 33.2363 - val_loss: 2156.3599 - val_mae: 36.7317\n",
      "Epoch 20/100\n",
      "\u001b[1m207/207\u001b[0m \u001b[32m━━━━━━━━━━━━━━━━━━━━\u001b[0m\u001b[37m\u001b[0m \u001b[1m23s\u001b[0m 109ms/step - loss: 1808.1923 - mae: 31.9920 - val_loss: 2013.2299 - val_mae: 35.5424\n",
      "Epoch 21/100\n",
      "\u001b[1m207/207\u001b[0m \u001b[32m━━━━━━━━━━━━━━━━━━━━\u001b[0m\u001b[37m\u001b[0m \u001b[1m23s\u001b[0m 109ms/step - loss: 1684.6962 - mae: 30.8873 - val_loss: 1879.8005 - val_mae: 34.1953\n",
      "Epoch 22/100\n",
      "\u001b[1m207/207\u001b[0m \u001b[32m━━━━━━━━━━━━━━━━━━━━\u001b[0m\u001b[37m\u001b[0m \u001b[1m23s\u001b[0m 113ms/step - loss: 1537.6292 - mae: 29.3260 - val_loss: 1753.5831 - val_mae: 33.0626\n",
      "Epoch 23/100\n",
      "\u001b[1m207/207\u001b[0m \u001b[32m━━━━━━━━━━━━━━━━━━━━\u001b[0m\u001b[37m\u001b[0m \u001b[1m23s\u001b[0m 110ms/step - loss: 1469.8711 - mae: 28.6331 - val_loss: 1631.0873 - val_mae: 31.6627\n",
      "Epoch 24/100\n",
      "\u001b[1m207/207\u001b[0m \u001b[32m━━━━━━━━━━━━━━━━━━━━\u001b[0m\u001b[37m\u001b[0m \u001b[1m23s\u001b[0m 109ms/step - loss: 1334.9844 - mae: 27.1454 - val_loss: 1516.2831 - val_mae: 30.4320\n",
      "Epoch 25/100\n",
      "\u001b[1m207/207\u001b[0m \u001b[32m━━━━━━━━━━━━━━━━━━━━\u001b[0m\u001b[37m\u001b[0m \u001b[1m23s\u001b[0m 109ms/step - loss: 1236.1221 - mae: 25.9116 - val_loss: 1410.6610 - val_mae: 29.4257\n",
      "Epoch 26/100\n",
      "\u001b[1m207/207\u001b[0m \u001b[32m━━━━━━━━━━━━━━━━━━━━\u001b[0m\u001b[37m\u001b[0m \u001b[1m25s\u001b[0m 123ms/step - loss: 1156.0980 - mae: 25.0841 - val_loss: 1315.4409 - val_mae: 28.4838\n",
      "Epoch 27/100\n",
      "\u001b[1m207/207\u001b[0m \u001b[32m━━━━━━━━━━━━━━━━━━━━\u001b[0m\u001b[37m\u001b[0m \u001b[1m23s\u001b[0m 110ms/step - loss: 1056.2170 - mae: 23.9311 - val_loss: 1218.3696 - val_mae: 27.5252\n",
      "Epoch 28/100\n",
      "\u001b[1m207/207\u001b[0m \u001b[32m━━━━━━━━━━━━━━━━━━━━\u001b[0m\u001b[37m\u001b[0m \u001b[1m23s\u001b[0m 111ms/step - loss: 973.3055 - mae: 22.9016 - val_loss: 1129.2240 - val_mae: 26.4413\n",
      "Epoch 29/100\n",
      "\u001b[1m207/207\u001b[0m \u001b[32m━━━━━━━━━━━━━━━━━━━━\u001b[0m\u001b[37m\u001b[0m \u001b[1m23s\u001b[0m 109ms/step - loss: 912.7461 - mae: 22.3325 - val_loss: 1053.5334 - val_mae: 25.5613\n",
      "Epoch 30/100\n",
      "\u001b[1m207/207\u001b[0m \u001b[32m━━━━━━━━━━━━━━━━━━━━\u001b[0m\u001b[37m\u001b[0m \u001b[1m23s\u001b[0m 111ms/step - loss: 837.8423 - mae: 21.2894 - val_loss: 972.6093 - val_mae: 24.8241\n",
      "Epoch 31/100\n",
      "\u001b[1m207/207\u001b[0m \u001b[32m━━━━━━━━━━━━━━━━━━━━\u001b[0m\u001b[37m\u001b[0m \u001b[1m23s\u001b[0m 111ms/step - loss: 774.4948 - mae: 20.5308 - val_loss: 898.1028 - val_mae: 23.8867\n",
      "Epoch 32/100\n",
      "\u001b[1m207/207\u001b[0m \u001b[32m━━━━━━━━━━━━━━━━━━━━\u001b[0m\u001b[37m\u001b[0m \u001b[1m23s\u001b[0m 113ms/step - loss: 732.1362 - mae: 20.1105 - val_loss: 838.9556 - val_mae: 23.2201\n",
      "Epoch 33/100\n",
      "\u001b[1m207/207\u001b[0m \u001b[32m━━━━━━━━━━━━━━━━━━━━\u001b[0m\u001b[37m\u001b[0m \u001b[1m22s\u001b[0m 108ms/step - loss: 648.8857 - mae: 18.7681 - val_loss: 784.7748 - val_mae: 22.3674\n",
      "Epoch 34/100\n",
      "\u001b[1m207/207\u001b[0m \u001b[32m━━━━━━━━━━━━━━━━━━━━\u001b[0m\u001b[37m\u001b[0m \u001b[1m23s\u001b[0m 111ms/step - loss: 600.4505 - mae: 18.1034 - val_loss: 715.1143 - val_mae: 21.5874\n",
      "Epoch 35/100\n",
      "\u001b[1m207/207\u001b[0m \u001b[32m━━━━━━━━━━━━━━━━━━━━\u001b[0m\u001b[37m\u001b[0m \u001b[1m23s\u001b[0m 112ms/step - loss: 545.5374 - mae: 17.2269 - val_loss: 666.6611 - val_mae: 20.8759\n",
      "Epoch 36/100\n",
      "\u001b[1m207/207\u001b[0m \u001b[32m━━━━━━━━━━━━━━━━━━━━\u001b[0m\u001b[37m\u001b[0m \u001b[1m23s\u001b[0m 109ms/step - loss: 515.0621 - mae: 16.9397 - val_loss: 614.0213 - val_mae: 20.1185\n",
      "Epoch 37/100\n",
      "\u001b[1m207/207\u001b[0m \u001b[32m━━━━━━━━━━━━━━━━━━━━\u001b[0m\u001b[37m\u001b[0m \u001b[1m19s\u001b[0m 90ms/step - loss: 471.2337 - mae: 16.2081 - val_loss: 582.7558 - val_mae: 19.9325\n",
      "Epoch 38/100\n",
      "\u001b[1m207/207\u001b[0m \u001b[32m━━━━━━━━━━━━━━━━━━━━\u001b[0m\u001b[37m\u001b[0m \u001b[1m16s\u001b[0m 79ms/step - loss: 430.1400 - mae: 15.5301 - val_loss: 540.6075 - val_mae: 19.0450\n",
      "Epoch 39/100\n",
      "\u001b[1m207/207\u001b[0m \u001b[32m━━━━━━━━━━━━━━━━━━━━\u001b[0m\u001b[37m\u001b[0m \u001b[1m16s\u001b[0m 78ms/step - loss: 391.6241 - mae: 14.8220 - val_loss: 507.6154 - val_mae: 18.4070\n",
      "Epoch 40/100\n",
      "\u001b[1m207/207\u001b[0m \u001b[32m━━━━━━━━━━━━━━━━━━━━\u001b[0m\u001b[37m\u001b[0m \u001b[1m16s\u001b[0m 77ms/step - loss: 352.4336 - mae: 14.0409 - val_loss: 480.1820 - val_mae: 18.1571\n",
      "Epoch 41/100\n",
      "\u001b[1m207/207\u001b[0m \u001b[32m━━━━━━━━━━━━━━━━━━━━\u001b[0m\u001b[37m\u001b[0m \u001b[1m16s\u001b[0m 77ms/step - loss: 324.3816 - mae: 13.5259 - val_loss: 451.0202 - val_mae: 17.4000\n",
      "Epoch 42/100\n",
      "\u001b[1m207/207\u001b[0m \u001b[32m━━━━━━━━━━━━━━━━━━━━\u001b[0m\u001b[37m\u001b[0m \u001b[1m16s\u001b[0m 77ms/step - loss: 293.0234 - mae: 12.8270 - val_loss: 434.8960 - val_mae: 17.1885\n",
      "Epoch 43/100\n",
      "\u001b[1m207/207\u001b[0m \u001b[32m━━━━━━━━━━━━━━━━━━━━\u001b[0m\u001b[37m\u001b[0m \u001b[1m16s\u001b[0m 78ms/step - loss: 271.5299 - mae: 12.4116 - val_loss: 414.4273 - val_mae: 16.7087\n",
      "Epoch 44/100\n",
      "\u001b[1m207/207\u001b[0m \u001b[32m━━━━━━━━━━━━━━━━━━━━\u001b[0m\u001b[37m\u001b[0m \u001b[1m16s\u001b[0m 77ms/step - loss: 248.7030 - mae: 11.9008 - val_loss: 381.4171 - val_mae: 16.0809\n",
      "Epoch 45/100\n",
      "\u001b[1m207/207\u001b[0m \u001b[32m━━━━━━━━━━━━━━━━━━━━\u001b[0m\u001b[37m\u001b[0m \u001b[1m16s\u001b[0m 78ms/step - loss: 232.5070 - mae: 11.5820 - val_loss: 397.5957 - val_mae: 16.1168\n",
      "Epoch 46/100\n",
      "\u001b[1m207/207\u001b[0m \u001b[32m━━━━━━━━━━━━━━━━━━━━\u001b[0m\u001b[37m\u001b[0m \u001b[1m16s\u001b[0m 77ms/step - loss: 214.6959 - mae: 11.1308 - val_loss: 363.6774 - val_mae: 15.6044\n",
      "Epoch 47/100\n",
      "\u001b[1m207/207\u001b[0m \u001b[32m━━━━━━━━━━━━━━━━━━━━\u001b[0m\u001b[37m\u001b[0m \u001b[1m16s\u001b[0m 78ms/step - loss: 196.3502 - mae: 10.6837 - val_loss: 341.4549 - val_mae: 15.1207\n",
      "Epoch 48/100\n",
      "\u001b[1m207/207\u001b[0m \u001b[32m━━━━━━━━━━━━━━━━━━━━\u001b[0m\u001b[37m\u001b[0m \u001b[1m16s\u001b[0m 78ms/step - loss: 174.8603 - mae: 10.0690 - val_loss: 348.0561 - val_mae: 14.8692\n",
      "Epoch 49/100\n",
      "\u001b[1m207/207\u001b[0m \u001b[32m━━━━━━━━━━━━━━━━━━━━\u001b[0m\u001b[37m\u001b[0m \u001b[1m16s\u001b[0m 79ms/step - loss: 164.1501 - mae: 9.6340 - val_loss: 352.8156 - val_mae: 14.6979\n",
      "Epoch 50/100\n",
      "\u001b[1m207/207\u001b[0m \u001b[32m━━━━━━━━━━━━━━━━━━━━\u001b[0m\u001b[37m\u001b[0m \u001b[1m16s\u001b[0m 78ms/step - loss: 150.6228 - mae: 9.2681 - val_loss: 332.4452 - val_mae: 14.4448\n",
      "Epoch 51/100\n",
      "\u001b[1m207/207\u001b[0m \u001b[32m━━━━━━━━━━━━━━━━━━━━\u001b[0m\u001b[37m\u001b[0m \u001b[1m16s\u001b[0m 80ms/step - loss: 143.5513 - mae: 9.0772 - val_loss: 338.5250 - val_mae: 14.3451\n",
      "Epoch 52/100\n",
      "\u001b[1m207/207\u001b[0m \u001b[32m━━━━━━━━━━━━━━━━━━━━\u001b[0m\u001b[37m\u001b[0m \u001b[1m16s\u001b[0m 79ms/step - loss: 127.0613 - mae: 8.4117 - val_loss: 331.8104 - val_mae: 14.0275\n",
      "Epoch 53/100\n",
      "\u001b[1m207/207\u001b[0m \u001b[32m━━━━━━━━━━━━━━━━━━━━\u001b[0m\u001b[37m\u001b[0m \u001b[1m16s\u001b[0m 78ms/step - loss: 119.1066 - mae: 8.2128 - val_loss: 328.6047 - val_mae: 13.9108\n",
      "Epoch 54/100\n",
      "\u001b[1m207/207\u001b[0m \u001b[32m━━━━━━━━━━━━━━━━━━━━\u001b[0m\u001b[37m\u001b[0m \u001b[1m16s\u001b[0m 78ms/step - loss: 113.6368 - mae: 7.9428 - val_loss: 333.4448 - val_mae: 13.7753\n",
      "Epoch 55/100\n",
      "\u001b[1m207/207\u001b[0m \u001b[32m━━━━━━━━━━━━━━━━━━━━\u001b[0m\u001b[37m\u001b[0m \u001b[1m16s\u001b[0m 78ms/step - loss: 105.8248 - mae: 7.6139 - val_loss: 341.2292 - val_mae: 13.8644\n",
      "Epoch 56/100\n",
      "\u001b[1m207/207\u001b[0m \u001b[32m━━━━━━━━━━━━━━━━━━━━\u001b[0m\u001b[37m\u001b[0m \u001b[1m16s\u001b[0m 79ms/step - loss: 97.2992 - mae: 7.3390 - val_loss: 339.8547 - val_mae: 13.5169\n",
      "Epoch 57/100\n",
      "\u001b[1m207/207\u001b[0m \u001b[32m━━━━━━━━━━━━━━━━━━━━\u001b[0m\u001b[37m\u001b[0m \u001b[1m16s\u001b[0m 78ms/step - loss: 92.6094 - mae: 7.0461 - val_loss: 349.2143 - val_mae: 13.8064\n",
      "Epoch 58/100\n",
      "\u001b[1m207/207\u001b[0m \u001b[32m━━━━━━━━━━━━━━━━━━━━\u001b[0m\u001b[37m\u001b[0m \u001b[1m16s\u001b[0m 79ms/step - loss: 88.0916 - mae: 6.9076 - val_loss: 337.6595 - val_mae: 13.3349\n",
      "Epoch 59/100\n",
      "\u001b[1m207/207\u001b[0m \u001b[32m━━━━━━━━━━━━━━━━━━━━\u001b[0m\u001b[37m\u001b[0m \u001b[1m16s\u001b[0m 78ms/step - loss: 84.7421 - mae: 6.7308 - val_loss: 359.6731 - val_mae: 13.7453\n",
      "Epoch 60/100\n",
      "\u001b[1m207/207\u001b[0m \u001b[32m━━━━━━━━━━━━━━━━━━━━\u001b[0m\u001b[37m\u001b[0m \u001b[1m16s\u001b[0m 79ms/step - loss: 79.4429 - mae: 6.5933 - val_loss: 352.4164 - val_mae: 13.5218\n",
      "Epoch 61/100\n",
      "\u001b[1m207/207\u001b[0m \u001b[32m━━━━━━━━━━━━━━━━━━━━\u001b[0m\u001b[37m\u001b[0m \u001b[1m16s\u001b[0m 79ms/step - loss: 79.1268 - mae: 6.4951 - val_loss: 358.6840 - val_mae: 13.3812\n",
      "Epoch 62/100\n",
      "\u001b[1m207/207\u001b[0m \u001b[32m━━━━━━━━━━━━━━━━━━━━\u001b[0m\u001b[37m\u001b[0m \u001b[1m16s\u001b[0m 79ms/step - loss: 73.2651 - mae: 6.2658 - val_loss: 358.0263 - val_mae: 13.3066\n",
      "Epoch 63/100\n",
      "\u001b[1m207/207\u001b[0m \u001b[32m━━━━━━━━━━━━━━━━━━━━\u001b[0m\u001b[37m\u001b[0m \u001b[1m17s\u001b[0m 82ms/step - loss: 71.3901 - mae: 6.2457 - val_loss: 356.6427 - val_mae: 13.3357\n",
      "Epoch 64/100\n",
      "\u001b[1m207/207\u001b[0m \u001b[32m━━━━━━━━━━━━━━━━━━━━\u001b[0m\u001b[37m\u001b[0m \u001b[1m17s\u001b[0m 81ms/step - loss: 69.7258 - mae: 6.1187 - val_loss: 380.0354 - val_mae: 13.8663\n",
      "Epoch 65/100\n",
      "\u001b[1m207/207\u001b[0m \u001b[32m━━━━━━━━━━━━━━━━━━━━\u001b[0m\u001b[37m\u001b[0m \u001b[1m18s\u001b[0m 85ms/step - loss: 69.0427 - mae: 6.0606 - val_loss: 343.6408 - val_mae: 13.0510\n",
      "Epoch 66/100\n",
      "\u001b[1m207/207\u001b[0m \u001b[32m━━━━━━━━━━━━━━━━━━━━\u001b[0m\u001b[37m\u001b[0m \u001b[1m17s\u001b[0m 84ms/step - loss: 64.7816 - mae: 5.9250 - val_loss: 371.4621 - val_mae: 13.4114\n",
      "Epoch 67/100\n",
      "\u001b[1m207/207\u001b[0m \u001b[32m━━━━━━━━━━━━━━━━━━━━\u001b[0m\u001b[37m\u001b[0m \u001b[1m17s\u001b[0m 82ms/step - loss: 63.3191 - mae: 5.8714 - val_loss: 373.1420 - val_mae: 13.3709\n",
      "Epoch 68/100\n",
      "\u001b[1m207/207\u001b[0m \u001b[32m━━━━━━━━━━━━━━━━━━━━\u001b[0m\u001b[37m\u001b[0m \u001b[1m17s\u001b[0m 81ms/step - loss: 63.5122 - mae: 5.8538 - val_loss: 375.4404 - val_mae: 13.0267\n",
      "Epoch 69/100\n",
      "\u001b[1m207/207\u001b[0m \u001b[32m━━━━━━━━━━━━━━━━━━━━\u001b[0m\u001b[37m\u001b[0m \u001b[1m17s\u001b[0m 82ms/step - loss: 62.0424 - mae: 5.7935 - val_loss: 375.1495 - val_mae: 13.1602\n",
      "Epoch 70/100\n",
      "\u001b[1m207/207\u001b[0m \u001b[32m━━━━━━━━━━━━━━━━━━━━\u001b[0m\u001b[37m\u001b[0m \u001b[1m18s\u001b[0m 86ms/step - loss: 60.1999 - mae: 5.7605 - val_loss: 380.5802 - val_mae: 13.6359\n",
      "Epoch 71/100\n",
      "\u001b[1m207/207\u001b[0m \u001b[32m━━━━━━━━━━━━━━━━━━━━\u001b[0m\u001b[37m\u001b[0m \u001b[1m18s\u001b[0m 85ms/step - loss: 56.8194 - mae: 5.5481 - val_loss: 373.4832 - val_mae: 13.3378\n",
      "Epoch 72/100\n",
      "\u001b[1m207/207\u001b[0m \u001b[32m━━━━━━━━━━━━━━━━━━━━\u001b[0m\u001b[37m\u001b[0m \u001b[1m18s\u001b[0m 88ms/step - loss: 58.3841 - mae: 5.5970 - val_loss: 364.8271 - val_mae: 13.1122\n",
      "Epoch 73/100\n",
      "\u001b[1m207/207\u001b[0m \u001b[32m━━━━━━━━━━━━━━━━━━━━\u001b[0m\u001b[37m\u001b[0m \u001b[1m17s\u001b[0m 83ms/step - loss: 56.7086 - mae: 5.5785 - val_loss: 392.9987 - val_mae: 13.4763\n",
      "Epoch 74/100\n",
      "\u001b[1m207/207\u001b[0m \u001b[32m━━━━━━━━━━━━━━━━━━━━\u001b[0m\u001b[37m\u001b[0m \u001b[1m17s\u001b[0m 84ms/step - loss: 54.7811 - mae: 5.4576 - val_loss: 394.5062 - val_mae: 13.6567\n",
      "Epoch 75/100\n",
      "\u001b[1m207/207\u001b[0m \u001b[32m━━━━━━━━━━━━━━━━━━━━\u001b[0m\u001b[37m\u001b[0m \u001b[1m17s\u001b[0m 84ms/step - loss: 56.0570 - mae: 5.5906 - val_loss: 393.6832 - val_mae: 13.7143\n",
      "Epoch 76/100\n",
      "\u001b[1m207/207\u001b[0m \u001b[32m━━━━━━━━━━━━━━━━━━━━\u001b[0m\u001b[37m\u001b[0m \u001b[1m18s\u001b[0m 85ms/step - loss: 53.9131 - mae: 5.4330 - val_loss: 402.7939 - val_mae: 13.6699\n",
      "Epoch 77/100\n",
      "\u001b[1m207/207\u001b[0m \u001b[32m━━━━━━━━━━━━━━━━━━━━\u001b[0m\u001b[37m\u001b[0m \u001b[1m18s\u001b[0m 89ms/step - loss: 51.7527 - mae: 5.3545 - val_loss: 409.5807 - val_mae: 14.0888\n",
      "Epoch 78/100\n",
      "\u001b[1m207/207\u001b[0m \u001b[32m━━━━━━━━━━━━━━━━━━━━\u001b[0m\u001b[37m\u001b[0m \u001b[1m18s\u001b[0m 87ms/step - loss: 54.7324 - mae: 5.4721 - val_loss: 390.7546 - val_mae: 13.5011\n",
      "Epoch 79/100\n",
      "\u001b[1m207/207\u001b[0m \u001b[32m━━━━━━━━━━━━━━━━━━━━\u001b[0m\u001b[37m\u001b[0m \u001b[1m18s\u001b[0m 85ms/step - loss: 52.8092 - mae: 5.4136 - val_loss: 370.9749 - val_mae: 13.0955\n",
      "Epoch 80/100\n",
      "\u001b[1m207/207\u001b[0m \u001b[32m━━━━━━━━━━━━━━━━━━━━\u001b[0m\u001b[37m\u001b[0m \u001b[1m18s\u001b[0m 85ms/step - loss: 50.9689 - mae: 5.3147 - val_loss: 393.3417 - val_mae: 13.3912\n",
      "Epoch 81/100\n",
      "\u001b[1m207/207\u001b[0m \u001b[32m━━━━━━━━━━━━━━━━━━━━\u001b[0m\u001b[37m\u001b[0m \u001b[1m18s\u001b[0m 86ms/step - loss: 48.0960 - mae: 5.1640 - val_loss: 384.9198 - val_mae: 13.4327\n",
      "Epoch 82/100\n",
      "\u001b[1m207/207\u001b[0m \u001b[32m━━━━━━━━━━━━━━━━━━━━\u001b[0m\u001b[37m\u001b[0m \u001b[1m18s\u001b[0m 85ms/step - loss: 48.1928 - mae: 5.2097 - val_loss: 398.2089 - val_mae: 13.6945\n",
      "Epoch 83/100\n",
      "\u001b[1m207/207\u001b[0m \u001b[32m━━━━━━━━━━━━━━━━━━━━\u001b[0m\u001b[37m\u001b[0m \u001b[1m18s\u001b[0m 86ms/step - loss: 49.0282 - mae: 5.2096 - val_loss: 398.9170 - val_mae: 13.5456\n",
      "Epoch 84/100\n",
      "\u001b[1m207/207\u001b[0m \u001b[32m━━━━━━━━━━━━━━━━━━━━\u001b[0m\u001b[37m\u001b[0m \u001b[1m18s\u001b[0m 85ms/step - loss: 47.6381 - mae: 5.1722 - val_loss: 403.6052 - val_mae: 13.6346\n",
      "Epoch 85/100\n",
      "\u001b[1m207/207\u001b[0m \u001b[32m━━━━━━━━━━━━━━━━━━━━\u001b[0m\u001b[37m\u001b[0m \u001b[1m18s\u001b[0m 85ms/step - loss: 49.4731 - mae: 5.2156 - val_loss: 379.0334 - val_mae: 13.3680\n",
      "Epoch 86/100\n",
      "\u001b[1m207/207\u001b[0m \u001b[32m━━━━━━━━━━━━━━━━━━━━\u001b[0m\u001b[37m\u001b[0m \u001b[1m18s\u001b[0m 86ms/step - loss: 47.1907 - mae: 5.0892 - val_loss: 381.5958 - val_mae: 13.2830\n",
      "Epoch 87/100\n",
      "\u001b[1m207/207\u001b[0m \u001b[32m━━━━━━━━━━━━━━━━━━━━\u001b[0m\u001b[37m\u001b[0m \u001b[1m18s\u001b[0m 85ms/step - loss: 43.6884 - mae: 4.9664 - val_loss: 397.7120 - val_mae: 13.4328\n",
      "Epoch 88/100\n",
      "\u001b[1m207/207\u001b[0m \u001b[32m━━━━━━━━━━━━━━━━━━━━\u001b[0m\u001b[37m\u001b[0m \u001b[1m18s\u001b[0m 86ms/step - loss: 45.2715 - mae: 5.0587 - val_loss: 405.8531 - val_mae: 13.6049\n",
      "Epoch 89/100\n",
      "\u001b[1m207/207\u001b[0m \u001b[32m━━━━━━━━━━━━━━━━━━━━\u001b[0m\u001b[37m\u001b[0m \u001b[1m17s\u001b[0m 83ms/step - loss: 44.6322 - mae: 5.0055 - val_loss: 400.1633 - val_mae: 13.5777\n",
      "Epoch 90/100\n",
      "\u001b[1m207/207\u001b[0m \u001b[32m━━━━━━━━━━━━━━━━━━━━\u001b[0m\u001b[37m\u001b[0m \u001b[1m18s\u001b[0m 89ms/step - loss: 45.2912 - mae: 4.9978 - val_loss: 398.0531 - val_mae: 13.6546\n",
      "Epoch 91/100\n",
      "\u001b[1m207/207\u001b[0m \u001b[32m━━━━━━━━━━━━━━━━━━━━\u001b[0m\u001b[37m\u001b[0m \u001b[1m18s\u001b[0m 87ms/step - loss: 43.3947 - mae: 4.9183 - val_loss: 393.0783 - val_mae: 13.2131\n",
      "Epoch 92/100\n",
      "\u001b[1m207/207\u001b[0m \u001b[32m━━━━━━━━━━━━━━━━━━━━\u001b[0m\u001b[37m\u001b[0m \u001b[1m18s\u001b[0m 88ms/step - loss: 42.5638 - mae: 4.8454 - val_loss: 393.8287 - val_mae: 13.4374\n",
      "Epoch 93/100\n",
      "\u001b[1m207/207\u001b[0m \u001b[32m━━━━━━━━━━━━━━━━━━━━\u001b[0m\u001b[37m\u001b[0m \u001b[1m17s\u001b[0m 82ms/step - loss: 43.6630 - mae: 4.9303 - val_loss: 408.1597 - val_mae: 13.8590\n",
      "Epoch 94/100\n",
      "\u001b[1m207/207\u001b[0m \u001b[32m━━━━━━━━━━━━━━━━━━━━\u001b[0m\u001b[37m\u001b[0m \u001b[1m17s\u001b[0m 82ms/step - loss: 42.1051 - mae: 4.8752 - val_loss: 406.0992 - val_mae: 13.8713\n",
      "Epoch 95/100\n",
      "\u001b[1m207/207\u001b[0m \u001b[32m━━━━━━━━━━━━━━━━━━━━\u001b[0m\u001b[37m\u001b[0m \u001b[1m17s\u001b[0m 80ms/step - loss: 43.5578 - mae: 4.9356 - val_loss: 419.2922 - val_mae: 13.8628\n",
      "Epoch 96/100\n",
      "\u001b[1m207/207\u001b[0m \u001b[32m━━━━━━━━━━━━━━━━━━━━\u001b[0m\u001b[37m\u001b[0m \u001b[1m17s\u001b[0m 81ms/step - loss: 46.1364 - mae: 5.0358 - val_loss: 407.3003 - val_mae: 13.8156\n",
      "Epoch 97/100\n",
      "\u001b[1m207/207\u001b[0m \u001b[32m━━━━━━━━━━━━━━━━━━━━\u001b[0m\u001b[37m\u001b[0m \u001b[1m17s\u001b[0m 80ms/step - loss: 41.1199 - mae: 4.8202 - val_loss: 415.9699 - val_mae: 13.6929\n",
      "Epoch 98/100\n",
      "\u001b[1m207/207\u001b[0m \u001b[32m━━━━━━━━━━━━━━━━━━━━\u001b[0m\u001b[37m\u001b[0m \u001b[1m17s\u001b[0m 83ms/step - loss: 42.1379 - mae: 4.8349 - val_loss: 408.0615 - val_mae: 13.7166\n",
      "Epoch 99/100\n",
      "\u001b[1m207/207\u001b[0m \u001b[32m━━━━━━━━━━━━━━━━━━━━\u001b[0m\u001b[37m\u001b[0m \u001b[1m18s\u001b[0m 86ms/step - loss: 41.6971 - mae: 4.8223 - val_loss: 403.9594 - val_mae: 13.3013\n",
      "Epoch 100/100\n",
      "\u001b[1m207/207\u001b[0m \u001b[32m━━━━━━━━━━━━━━━━━━━━\u001b[0m\u001b[37m\u001b[0m \u001b[1m18s\u001b[0m 87ms/step - loss: 43.6615 - mae: 4.9330 - val_loss: 402.5383 - val_mae: 13.8053\n",
      "LSTM-BiDirectional Training Time: 1922.56 seconds\n",
      "NaNs in X_test_final: 6000\n",
      "\u001b[1m4/4\u001b[0m \u001b[32m━━━━━━━━━━━━━━━━━━━━\u001b[0m\u001b[37m\u001b[0m \u001b[1m3s\u001b[0m 493ms/step\n",
      "LSTM-BiDirectional Method: RMSE=273.63, MAE=12.81, R²=0.84, Accuracy = 79.16%, Score=534.85 \n"
     ]
    }
   ],
   "source": [
    "# LSTM-BiDirectional Model\n",
    "scaler = StandardScaler()\n",
    "train_df[features] = scaler.fit_transform(train_df[features])\n",
    "test_df[features] = scaler.transform(test_df[features])\n",
    "\n",
    "test_max_cycle = test_df.groupby('engine_id')['cycle'].max().reset_index()\n",
    "test_max_cycle.columns = ['engine_id', 'max_cycle']\n",
    "test_df = test_df.merge(test_max_cycle, on='engine_id')\n",
    "test_df['RUL'] = test_df['max_cycle'] - test_df['cycle']\n",
    "test_df.drop('max_cycle', axis=1, inplace=True)\n",
    "rul_cap = 130\n",
    "train_df['RUL'] = train_df['RUL'].clip(upper=rul_cap)\n",
    "\n",
    "sequence_length = 30\n",
    "#train_df[features] = train_df[features].fillna(0)\n",
    "def create_sequences(df, sequence_length, features):\n",
    "    sequences = []\n",
    "    labels = []\n",
    "    for engine_id in df['engine_id'].unique():\n",
    "        engine_data = df[df['engine_id'] == engine_id]\n",
    "        for i in range(len(engine_data) - sequence_length):\n",
    "            seq = engine_data[features].iloc[i:i+sequence_length].values\n",
    "            label = engine_data['RUL'].iloc[i + sequence_length]\n",
    "            sequences.append(seq)\n",
    "            labels.append(label)\n",
    "    return np.array(sequences), np.array(labels)\n",
    "\n",
    "X_train_seq, y_train_seq = create_sequences(train_df, sequence_length, features)\n",
    "num_features = X_train_seq.shape[2]\n",
    "\n",
    "model = Sequential()\n",
    "model.add(Bidirectional(LSTM(128, return_sequences=True), input_shape=(sequence_length, num_features)))\n",
    "model.add(Dropout(0.3))\n",
    "model.add(Bidirectional(LSTM(64, return_sequences=True)))\n",
    "model.add(Dropout(0.3))\n",
    "model.add(Bidirectional(LSTM(64)))\n",
    "model.add(Dropout(0.3))\n",
    "model.add(Dense(1))\n",
    "\n",
    "model.compile(optimizer=Adam(learning_rate=1e-4), loss='mse', metrics=['mae'])\n",
    "model.summary()\n",
    "\n",
    "start_lstm = time.time()\n",
    "model.fit(X_train_seq, y_train_seq, validation_split=0.25, epochs=100, batch_size=64)\n",
    "end_lstm = time.time()\n",
    "print(f\"LSTM-BiDirectional Training Time: {end_lstm - start_lstm:.2f} seconds\")\n",
    "\n",
    "rul_df = pd.read_csv(\"RUL_FD001.txt\", header=None, names=[\"true_RUL\"])\n",
    "rul_df[\"engine_id\"] = rul_df.index + 1\n",
    "\n",
    "test_sequences = []\n",
    "valid_engine_ids = []\n",
    "\n",
    "for engine_id in test_df[\"engine_id\"].unique():\n",
    "    engine_data = test_df[test_df[\"engine_id\"] == engine_id]\n",
    "    if len(engine_data) >= sequence_length:\n",
    "        last_seq = engine_data.iloc[-sequence_length:][features].values\n",
    "        test_sequences.append(last_seq)\n",
    "        valid_engine_ids.append(engine_id)\n",
    "\n",
    "X_test_final = np.array(test_sequences)\n",
    "print(\"NaNs in X_test_final:\", np.isnan(X_test_final).sum())\n",
    "X_test_final = np.nan_to_num(X_test_final)\n",
    "\n",
    "y_pred = model.predict(X_test_final).flatten()\n",
    "y_true = rul_df[rul_df[\"engine_id\"].isin(valid_engine_ids)][\"true_RUL\"].values\n",
    "evaluate_model(\"LSTM-BiDirectional Method\", y_test, y_pred)"
   ]
  },
  {
   "cell_type": "code",
   "execution_count": null,
   "id": "f3c74d17-d4dc-4321-afa5-0d2e2d1a8714",
   "metadata": {},
   "outputs": [],
   "source": []
  }
 ],
 "metadata": {
  "kernelspec": {
   "display_name": "Python 3.11 (TF)",
   "language": "python",
   "name": "tf311"
  },
  "language_info": {
   "codemirror_mode": {
    "name": "ipython",
    "version": 3
   },
   "file_extension": ".py",
   "mimetype": "text/x-python",
   "name": "python",
   "nbconvert_exporter": "python",
   "pygments_lexer": "ipython3",
   "version": "3.11.7"
  }
 },
 "nbformat": 4,
 "nbformat_minor": 5
}
