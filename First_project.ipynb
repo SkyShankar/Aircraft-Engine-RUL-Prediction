{
 "cells": [
  {
   "cell_type": "code",
   "execution_count": 4,
   "id": "835a6c51-cc49-45ec-9d4b-adbdbc4083ee",
   "metadata": {},
   "outputs": [],
   "source": [
    "train_FD001=pd.read_csv(\"C:/Users/D-InfoTech/Desktop/Jupyter project/train_FD001.txt\", sep=' ', header=None)"
   ]
  },
  {
   "cell_type": "code",
   "execution_count": 2,
   "id": "a82fe745-8650-4d64-aecd-3709d1907bc3",
   "metadata": {},
   "outputs": [],
   "source": [
    "#import librabries"
   ]
  },
  {
   "cell_type": "code",
   "execution_count": 5,
   "id": "29265cd2-df44-40dc-bb98-48e8727a0422",
   "metadata": {},
   "outputs": [],
   "source": [
    "import pandas as pd\n",
    "import numpy as np\n",
    "import matplotlib.pyplot as plt\n",
    "from sklearn.linear_model import LinearRegression\n",
    "from sklearn.model_selection import train_test_split\n",
    "from sklearn.metrics import mean_squared_error"
   ]
  },
  {
   "cell_type": "code",
   "execution_count": 2,
   "id": "d2de6d81-5cd0-4645-b773-9f1be851218b",
   "metadata": {},
   "outputs": [],
   "source": [
    "#Load the Training Data"
   ]
  },
  {
   "cell_type": "code",
   "execution_count": 3,
   "id": "d9d94763-2b83-4390-83be-053a883d23ac",
   "metadata": {},
   "outputs": [],
   "source": [
    "column_names = [\n",
    "    'engine_id', 'cycle',\n",
    "    'op_setting_1', 'op_setting_2', 'op_setting_3',\n",
    "] + [f'sensor_{i}' for i in range(1, 22)]\n",
    "\n",
    "df = pd.read_csv('C:/Users/D-InfoTech/Desktop/Jupyter project/train_FD001.txt', sep=' ', header=None)\n",
    "df.dropna(axis=1, inplace=True)  # Drop empty columns at the end\n",
    "df.columns = column_names\n"
   ]
  },
  {
   "cell_type": "code",
   "execution_count": 7,
   "id": "923c70fd-268c-42ba-ac79-31b29b930d0a",
   "metadata": {},
   "outputs": [],
   "source": [
    "#Calculate RUL (Remaining Useful Life)"
   ]
  },
  {
   "cell_type": "code",
   "execution_count": 8,
   "id": "e6f37a0a-c193-4202-a1a7-1a5f416ee796",
   "metadata": {},
   "outputs": [],
   "source": [
    "# Get max cycle per engine\n",
    "rul_df = df.groupby('engine_id')['cycle'].max().reset_index()\n",
    "rul_df.columns = ['engine_id', 'max_cycle']\n",
    "\n",
    "# Merge with main data to calculate RUL\n",
    "df = df.merge(rul_df, on='engine_id')\n",
    "df['RUL'] = df['max_cycle'] - df['cycle']\n",
    "df.drop('max_cycle', axis=1, inplace=True)"
   ]
  },
  {
   "cell_type": "code",
   "execution_count": 16,
   "id": "2879c62a-8b2f-429f-b942-7251f6fdb6f1",
   "metadata": {},
   "outputs": [
    {
     "ename": "SyntaxError",
     "evalue": "invalid syntax (985248743.py, line 13)",
     "output_type": "error",
     "traceback": [
      "\u001b[1;36m  Cell \u001b[1;32mIn[16], line 13\u001b[1;36m\u001b[0m\n\u001b[1;33m    f_y = (math.sin(phi)*math.sin(theta)*math.cos(psi)-math.cos(phi)*math.sin(psi))*vx +\u001b[0m\n\u001b[1;37m                                                                                         ^\u001b[0m\n\u001b[1;31mSyntaxError\u001b[0m\u001b[1;31m:\u001b[0m invalid syntax\n"
     ]
    }
   ],
   "source": [
    "import sympy as sp\n",
    "import numpy as np\n",
    "\n",
    "# Step 1: Define symbolic variables\n",
    "x, y, z = sp.symbols('x y z')     # position variables\n",
    "vx, vy, vz = sp.symbols('vx vy vz')  # velocity variables\n",
    "phi, theta, psi = sp.symbols('phi theta psi')       # angle variable\n",
    "g = sp.Symbol('g')                # gravity\n",
    "\n",
    "# Step 2: Define your function\n",
    "# Example: acceleration a_x = -vz*y + g*sin(theta)\n",
    "f_x = (math.cos(theta)*math.cos(psi))*vx + (math.cos(theta)*math.sin(psi))*vy + (-math.sin(theta))*vz\n",
    "f_y = (math.sin(phi)*math.sin(theta)*math.cos(psi)-math.cos(phi)*math.sin(psi))*vx + \n",
    "\n",
    "# Step 3: Compute partial derivatives\n",
    "# ∂a_x/∂y\n",
    "partial_y = sp.diff(a_x, y)\n",
    "\n",
    "# ∂a_x/∂theta\n",
    "partial_theta = sp.diff(a_x, theta)\n",
    "\n",
    "# Step 4: Print them\n",
    "print(\"∂a_x/∂y =\", partial_y)\n",
    "print(\"∂a_x/∂theta =\", partial_theta)\n",
    "\n",
    "# Optional: Evaluate numerically\n",
    "subs = {\n",
    "    y: 2.0,\n",
    "    vz: 3.0,\n",
    "    theta: 0.5,\n",
    "    g: 9.81\n",
    "}\n",
    "print(\"∂a_x/∂y (value) =\", partial_y.evalf(subs=subs))\n",
    "print(\"∂a_x/∂theta (value) =\", partial_theta.evalf(subs=subs))\n"
   ]
  },
  {
   "cell_type": "code",
   "execution_count": 17,
   "id": "29a58065-dc94-48d1-97c6-ebdff01aa358",
   "metadata": {},
   "outputs": [
    {
     "ename": "ModuleNotFoundError",
     "evalue": "No module named 'sympy'",
     "output_type": "error",
     "traceback": [
      "\u001b[1;31m---------------------------------------------------------------------------\u001b[0m",
      "\u001b[1;31mModuleNotFoundError\u001b[0m                       Traceback (most recent call last)",
      "Cell \u001b[1;32mIn[17], line 2\u001b[0m\n\u001b[0;32m      1\u001b[0m \u001b[38;5;28;01mimport\u001b[39;00m\u001b[38;5;250m \u001b[39m\u001b[38;5;21;01mnumpy\u001b[39;00m\u001b[38;5;250m \u001b[39m\u001b[38;5;28;01mas\u001b[39;00m\u001b[38;5;250m \u001b[39m\u001b[38;5;21;01mnp\u001b[39;00m\n\u001b[1;32m----> 2\u001b[0m \u001b[38;5;28;01mimport\u001b[39;00m\u001b[38;5;250m \u001b[39m\u001b[38;5;21;01msympy\u001b[39;00m\u001b[38;5;250m \u001b[39m\u001b[38;5;28;01mas\u001b[39;00m\u001b[38;5;250m \u001b[39m\u001b[38;5;21;01msp\u001b[39;00m\n\u001b[0;32m      3\u001b[0m \u001b[38;5;28;01mimport\u001b[39;00m\u001b[38;5;250m \u001b[39m\u001b[38;5;21;01mmath\u001b[39;00m\n\u001b[0;32m      4\u001b[0m x \u001b[38;5;241m=\u001b[39m sp\u001b[38;5;241m.\u001b[39msymbols(\u001b[38;5;124m'\u001b[39m\u001b[38;5;124mx\u001b[39m\u001b[38;5;124m'\u001b[39m)\n",
      "\u001b[1;31mModuleNotFoundError\u001b[0m: No module named 'sympy'"
     ]
    }
   ],
   "source": [
    "import numpy as np\n",
    "import sympy as sp\n",
    "import math\n",
    "x = sp.symbols('x')\n",
    "y = sp.symbols('y')\n",
    "z = sp.symbols('z')\n",
    "U = sp.symbols('U')\n",
    "V = sp.symbols('V')\n",
    "W = sp.symbols('W')\n",
    "phi = sp.symbols('phi')\n",
    "theta = sp.symbols('theta')\n",
    "psi = sp.symbols('psi')\n",
    "cphi, sphi = math.cos(phi), math.sin(phi)\n",
    "ctheta, stheta = math.cos(theta), math.sin(theta)\n",
    "cpsi, spsi = math.cos(psi), math.sin(psi)\n",
    "\n",
    "C_bn = np.array([\n",
    "    [ctheta * cpsi, ctheta * spsi, -stheta],\n",
    "    [sphi * stheta * cpsi - cphi * spsi, sphi * stheta * spsi + cphi * cpsi, sphi * ctheta],\n",
    "    [cphi * stheta * cpsi + sphi * spsi, cphi * stheta * spsi - sphi * cpsi, cphi * ctheta]\n",
    "])\n",
    "\n",
    "# World velocity from body\n",
    "pos_dot = C_bn.T @ np.array([[U], [V], [W]])"
   ]
  },
  {
   "cell_type": "code",
   "execution_count": 6,
   "id": "6afc1c20-1c64-4c7f-8323-2e3c23fb6a22",
   "metadata": {},
   "outputs": [
    {
     "data": {
      "text/plain": [
       "array([[6.25751774],\n",
       "       [4.48595099],\n",
       "       [4.20947924]])"
      ]
     },
     "execution_count": 6,
     "metadata": {},
     "output_type": "execute_result"
    }
   ],
   "source": [
    "pos_dot"
   ]
  },
  {
   "cell_type": "code",
   "execution_count": 14,
   "id": "dca62d6d-d0ed-48f9-b256-eb54973d7b34",
   "metadata": {},
   "outputs": [
    {
     "ename": "ModuleNotFoundError",
     "evalue": "No module named 'sympy'",
     "output_type": "error",
     "traceback": [
      "\u001b[1;31m---------------------------------------------------------------------------\u001b[0m",
      "\u001b[1;31mModuleNotFoundError\u001b[0m                       Traceback (most recent call last)",
      "Cell \u001b[1;32mIn[14], line 1\u001b[0m\n\u001b[1;32m----> 1\u001b[0m \u001b[38;5;28;01mimport\u001b[39;00m\u001b[38;5;250m \u001b[39m\u001b[38;5;21;01msympy\u001b[39;00m\u001b[38;5;250m \u001b[39m\u001b[38;5;28;01mas\u001b[39;00m\u001b[38;5;250m \u001b[39m\u001b[38;5;21;01msp\u001b[39;00m\n\u001b[0;32m      2\u001b[0m \u001b[38;5;28;01mfrom\u001b[39;00m\u001b[38;5;250m \u001b[39m\u001b[38;5;21;01msympy\u001b[39;00m\u001b[38;5;250m \u001b[39m\u001b[38;5;28;01mimport\u001b[39;00m symbols, sin, cos, tan, sec, Matrix\n",
      "\u001b[1;31mModuleNotFoundError\u001b[0m: No module named 'sympy'"
     ]
    }
   ],
   "source": [
    "import sympy as sp\n",
    "from sympy import symbols, sin, cos, tan, sec, Matrix"
   ]
  },
  {
   "cell_type": "code",
   "execution_count": 18,
   "id": "5fa51bd2-6312-45bc-9023-590893f5b3eb",
   "metadata": {},
   "outputs": [
    {
     "ename": "ModuleNotFoundError",
     "evalue": "No module named 'sympy'",
     "output_type": "error",
     "traceback": [
      "\u001b[1;31m---------------------------------------------------------------------------\u001b[0m",
      "\u001b[1;31mModuleNotFoundError\u001b[0m                       Traceback (most recent call last)",
      "Cell \u001b[1;32mIn[18], line 1\u001b[0m\n\u001b[1;32m----> 1\u001b[0m \u001b[38;5;28;01mimport\u001b[39;00m\u001b[38;5;250m \u001b[39m\u001b[38;5;21;01msympy\u001b[39;00m\n\u001b[0;32m      2\u001b[0m \u001b[38;5;28;01mfrom\u001b[39;00m\u001b[38;5;250m \u001b[39m\u001b[38;5;21;01msympy\u001b[39;00m\u001b[38;5;250m \u001b[39m\u001b[38;5;28;01mimport\u001b[39;00m symbols, sin, cos, tan, sec, Matrix\n\u001b[0;32m      4\u001b[0m \u001b[38;5;66;03m# 1. Define the symbolic state variables\u001b[39;00m\n",
      "\u001b[1;31mModuleNotFoundError\u001b[0m: No module named 'sympy'"
     ]
    }
   ],
   "source": [
    "import sympy\n",
    "from sympy import symbols, sin, cos, tan, sec, Matrix\n",
    "\n",
    "# 1. Define the symbolic state variables\n",
    "x, y, z = symbols('x y z')\n",
    "U, V, W = symbols('U V W') # Body frame velocities\n",
    "phi, theta, psi = symbols('phi theta psi') # Euler angles (roll, pitch, yaw)\n",
    "\n",
    "# Define symbolic inputs/controls (p, q, r are angular velocities in body frame)\n",
    "# ax, ay, az are accelerations in body frame (e.g., from external forces/motors)\n",
    "p, q, r = symbols('p q r') # Angular velocities in body frame\n",
    "ax, ay, az = symbols('ax ay az') # Body frame accelerations (control inputs or external forces)\n",
    "g = symbols('g') # Gravity constant\n",
    "\n",
    "# The full state vector 'X' for differentiation\n",
    "state_vector = Matrix([x, y, z, U, V, W, phi, theta, psi])\n",
    "\n",
    "# Define the C_bn (or rotation matrix from body to navigation frame) components\n",
    "# c(theta) = cos(theta), s(theta) = sin(theta) etc.\n",
    "c_phi, s_phi = cos(phi), sin(phi)\n",
    "c_theta, s_theta = cos(theta), sin(theta)\n",
    "c_psi, s_psi = cos(psi), sin(psi)\n",
    "\n",
    "# C_bn Matrix (from the image)\n",
    "C_bn = Matrix([\n",
    "    [c_theta * c_psi, c_theta * s_psi, -s_theta],\n",
    "    [s_phi * s_theta * c_psi - c_phi * s_psi, s_phi * s_theta * s_psi + c_phi * c_psi, s_phi * c_theta],\n",
    "    [c_phi * s_theta * c_psi + s_phi * s_psi, c_phi * s_theta * s_psi - s_phi * c_psi, c_phi * c_theta]\n",
    "])\n",
    "\n",
    "# Transpose of C_bn\n",
    "C_bn_T = C_bn.T\n",
    "\n",
    "# Linear velocities in the navigation frame (rows 1-3 of f(x,u))\n",
    "# This is C_bn_T * [U, V, W]^T\n",
    "# Note: In standard robotics, often this is C_nb * [U, V, W]^T, where C_nb = C_bn.T\n",
    "# Based on your image, it is indeed C_bn.T * [U, V, W]^T\n",
    "linear_vel_nav_frame = C_bn_T * Matrix([U, V, W])\n",
    "x_dot = linear_vel_nav_frame[0]\n",
    "y_dot = linear_vel_nav_frame[1]\n",
    "z_dot = linear_vel_nav_frame[2]\n",
    "\n",
    "\n",
    "# Angular velocities (rows 7-9 of f(x,u)) - Euler angle derivatives\n",
    "# This part converts body angular velocities (p,q,r) to Euler angle rates (phi_dot, theta_dot, psi_dot)\n",
    "# Note: tan(theta) can be problematic near theta = +/- pi/2 (gimbal lock).\n",
    "phi_dot = p + q * s_phi * tan(theta) + r * c_phi * tan(theta)\n",
    "theta_dot = q * c_phi - r * s_phi\n",
    "psi_dot = q * s_phi * sec(theta) + r * c_phi * sec(theta)\n",
    "\n",
    "\n",
    "# Accelerations in the body frame (rows 4-6 of f(x,u))\n",
    "# These are typically derived from Newton's laws and gravitational effects\n",
    "# This part seems to be the time derivative of U, V, W (body frame accelerations)\n",
    "U_dot = ax + V*r - W*q + g*s_theta\n",
    "V_dot = ay - U*r + W*p - g*c_theta*s_phi # Typo in image? Should be s(phi) or c(phi)? Assuming s(phi)\n",
    "                                        # Image shows gc(phi) but typically it's related to pitch and roll\n",
    "                                        # If 'c(phi)' in image is cos(phi), this looks like a gravity component\n",
    "                                        # Let's assume it's gc(phi) as written in image to match\n",
    "V_dot = ay - U*r + W*p - g*c_phi # Using gc(phi) from image for V_dot's gravity term\n",
    "W_dot = az + U*q - V*p - g*c_theta*c_phi # Using gc(theta) from image for W_dot's gravity term\n",
    "\n",
    "\n",
    "# Construct the full f(x,u) vector function\n",
    "f_sym = Matrix([\n",
    "    x_dot,\n",
    "    y_dot,\n",
    "    z_dot,\n",
    "    U_dot,\n",
    "    V_dot,\n",
    "    W_dot,\n",
    "    phi_dot,\n",
    "    theta_dot,\n",
    "    psi_dot\n",
    "])\n",
    "\n",
    "print(\"Symbolic function f(x,u):\")\n",
    "# for i, expr in enumerate(f_sym):\n",
    "#     print(f\"f_{i+1} = {expr}\")\n",
    "print(f_sym)\n",
    "\n",
    "print(\"\\n-------------------------------------------------\\n\")\n",
    "\n",
    "# 2. Compute the Jacobian Matrix (partial derivatives of f_sym with respect to state_vector)\n",
    "# This is df/dx_i for each f_j component\n",
    "Jacobian_matrix = f_sym.jacobian(state_vector)\n",
    "\n",
    "print(\"Jacobian Matrix (partial derivatives of f(x,u) with respect to x, y, z, U, V, W, phi, theta, psi):\")\n",
    "print(Jacobian_matrix)"
   ]
  },
  {
   "cell_type": "code",
   "execution_count": null,
   "id": "ed464b99-2335-482e-86b5-ad4de958f8e6",
   "metadata": {},
   "outputs": [],
   "source": []
  }
 ],
 "metadata": {
  "kernelspec": {
   "display_name": "Python 3 (ipykernel)",
   "language": "python",
   "name": "python3"
  },
  "language_info": {
   "codemirror_mode": {
    "name": "ipython",
    "version": 3
   },
   "file_extension": ".py",
   "mimetype": "text/x-python",
   "name": "python",
   "nbconvert_exporter": "python",
   "pygments_lexer": "ipython3",
   "version": "3.13.2"
  }
 },
 "nbformat": 4,
 "nbformat_minor": 5
}
